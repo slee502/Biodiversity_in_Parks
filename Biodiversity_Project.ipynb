{
 "cells": [
  {
   "cell_type": "markdown",
   "id": "c6815add",
   "metadata": {},
   "source": [
    "## 1. Import Libraries"
   ]
  },
  {
   "cell_type": "code",
   "execution_count": 1,
   "id": "adbec796",
   "metadata": {},
   "outputs": [],
   "source": [
    "import pandas as pd\n",
    "import numpy as np\n",
    "import matplotlib\n",
    "import matplotlib.pyplot as plt"
   ]
  },
  {
   "cell_type": "markdown",
   "id": "b3ca8b24",
   "metadata": {},
   "source": [
    "## 2. Read the CSV"
   ]
  },
  {
   "cell_type": "code",
   "execution_count": 2,
   "id": "656be42f",
   "metadata": {},
   "outputs": [],
   "source": [
    "df_species = pd.read_csv('assets/species.csv', usecols=['Park Name', 'Category', 'Common Names', 'Occurrence', 'Nativeness', 'Abundance', 'Conservation Status'])"
   ]
  },
  {
   "cell_type": "markdown",
   "id": "539d4a8a",
   "metadata": {},
   "source": [
    "## 3. Clean the data"
   ]
  },
  {
   "cell_type": "code",
   "execution_count": 5,
   "id": "0715bf38",
   "metadata": {},
   "outputs": [
    {
     "data": {
      "text/plain": [
       "['Park Name',\n",
       " 'Category',\n",
       " 'Common Names',\n",
       " 'Occurrence',\n",
       " 'Nativeness',\n",
       " 'Abundance',\n",
       " 'Conservation Status']"
      ]
     },
     "execution_count": 5,
     "metadata": {},
     "output_type": "execute_result"
    }
   ],
   "source": [
    "# check for whitespace in column names\n",
    "list(df_species.columns)"
   ]
  },
  {
   "cell_type": "code",
   "execution_count": 10,
   "id": "ba01db23",
   "metadata": {
    "scrolled": true
   },
   "outputs": [
    {
     "data": {
      "text/plain": [
       "Park Name              object\n",
       "Category               object\n",
       "Common Names           object\n",
       "Occurrence             object\n",
       "Nativeness             object\n",
       "Abundance              object\n",
       "Conservation Status    object\n",
       "dtype: object"
      ]
     },
     "execution_count": 10,
     "metadata": {},
     "output_type": "execute_result"
    }
   ],
   "source": [
    "df_species.dtypes"
   ]
  },
  {
   "cell_type": "code",
   "execution_count": null,
   "id": "c4bd96db",
   "metadata": {},
   "outputs": [],
   "source": []
  }
 ],
 "metadata": {
  "kernelspec": {
   "display_name": "Python 3 (ipykernel)",
   "language": "python",
   "name": "python3"
  },
  "language_info": {
   "codemirror_mode": {
    "name": "ipython",
    "version": 3
   },
   "file_extension": ".py",
   "mimetype": "text/x-python",
   "name": "python",
   "nbconvert_exporter": "python",
   "pygments_lexer": "ipython3",
   "version": "3.11.1"
  }
 },
 "nbformat": 4,
 "nbformat_minor": 5
}
