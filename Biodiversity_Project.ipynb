{
 "cells": [
  {
   "cell_type": "markdown",
   "id": "b8092eb0",
   "metadata": {},
   "source": [
    "# INTRODUCTION\n",
    "This project aims to explore and analyze the biodiversity of U.S. national parks. The following questions will be answered:\n",
    "\n",
    "- Which parks have the most/least biodiversity?\n",
    "- Is there a relationship between park size and biodiversity?\n",
    "- Which category of species is the most/least observed in the parks?\n",
    "- Which category of species is present in maximum/minimum number for each park?\n",
    "- Which park has the highest number of endangered species?\n",
    "- What is the relationship between Nativeness and the Conservation Status?\n",
    "\n",
    "The insights uncovered in this exploratory data analysis could potentially be useful for understanding the current state of biodiversity in U.S. national parks and helping to make decisions about park management and conservation.\n",
    "\n",
    "# FILES\n",
    "Data was retrieved from Kaggle (www.kaggle.com) on 3/2/2023. It consists of two files:\n",
    "- parks.csv which contains basic information for each park including name, location, and size.\n",
    "- species.csv which contains species information for each park, including the category name, scientific name, common name, abundance, and conservation status.\n",
    "\n",
    "# ANALYSIS"
   ]
  },
  {
   "cell_type": "markdown",
   "id": "c6815add",
   "metadata": {},
   "source": [
    "## 1. Import libraries"
   ]
  },
  {
   "cell_type": "code",
   "execution_count": 1,
   "id": "adbec796",
   "metadata": {},
   "outputs": [],
   "source": [
    "import pandas as pd\n",
    "import numpy as np\n",
    "import matplotlib\n",
    "import matplotlib.pyplot as plt"
   ]
  },
  {
   "cell_type": "markdown",
   "id": "77bf535e",
   "metadata": {},
   "source": [
    "## 2. Read the data in"
   ]
  },
  {
   "cell_type": "code",
   "execution_count": 2,
   "id": "1a3a1ebc",
   "metadata": {},
   "outputs": [],
   "source": [
    "# read parks data and specify columns to use\n",
    "parks = pd.read_csv('assets/parks.csv', usecols=['Park Code', 'Park Name', 'State', 'Acres'])"
   ]
  },
  {
   "cell_type": "code",
   "execution_count": 3,
   "id": "fe570019",
   "metadata": {},
   "outputs": [
    {
     "data": {
      "text/html": [
       "<div>\n",
       "<style scoped>\n",
       "    .dataframe tbody tr th:only-of-type {\n",
       "        vertical-align: middle;\n",
       "    }\n",
       "\n",
       "    .dataframe tbody tr th {\n",
       "        vertical-align: top;\n",
       "    }\n",
       "\n",
       "    .dataframe thead th {\n",
       "        text-align: right;\n",
       "    }\n",
       "</style>\n",
       "<table border=\"1\" class=\"dataframe\">\n",
       "  <thead>\n",
       "    <tr style=\"text-align: right;\">\n",
       "      <th></th>\n",
       "      <th>Park Code</th>\n",
       "      <th>Park Name</th>\n",
       "      <th>State</th>\n",
       "      <th>Acres</th>\n",
       "    </tr>\n",
       "  </thead>\n",
       "  <tbody>\n",
       "    <tr>\n",
       "      <th>0</th>\n",
       "      <td>ACAD</td>\n",
       "      <td>Acadia National Park</td>\n",
       "      <td>ME</td>\n",
       "      <td>47390</td>\n",
       "    </tr>\n",
       "    <tr>\n",
       "      <th>1</th>\n",
       "      <td>ARCH</td>\n",
       "      <td>Arches National Park</td>\n",
       "      <td>UT</td>\n",
       "      <td>76519</td>\n",
       "    </tr>\n",
       "    <tr>\n",
       "      <th>2</th>\n",
       "      <td>BADL</td>\n",
       "      <td>Badlands National Park</td>\n",
       "      <td>SD</td>\n",
       "      <td>242756</td>\n",
       "    </tr>\n",
       "    <tr>\n",
       "      <th>3</th>\n",
       "      <td>BIBE</td>\n",
       "      <td>Big Bend National Park</td>\n",
       "      <td>TX</td>\n",
       "      <td>801163</td>\n",
       "    </tr>\n",
       "    <tr>\n",
       "      <th>4</th>\n",
       "      <td>BISC</td>\n",
       "      <td>Biscayne National Park</td>\n",
       "      <td>FL</td>\n",
       "      <td>172924</td>\n",
       "    </tr>\n",
       "  </tbody>\n",
       "</table>\n",
       "</div>"
      ],
      "text/plain": [
       "  Park Code               Park Name State   Acres\n",
       "0      ACAD    Acadia National Park    ME   47390\n",
       "1      ARCH    Arches National Park    UT   76519\n",
       "2      BADL  Badlands National Park    SD  242756\n",
       "3      BIBE  Big Bend National Park    TX  801163\n",
       "4      BISC  Biscayne National Park    FL  172924"
      ]
     },
     "execution_count": 3,
     "metadata": {},
     "output_type": "execute_result"
    }
   ],
   "source": [
    "# display first five rows to inspect data structure/content\n",
    "parks.head()"
   ]
  },
  {
   "cell_type": "code",
   "execution_count": 4,
   "id": "1af0c60b",
   "metadata": {},
   "outputs": [],
   "source": [
    "# read species data and specify columns to use\n",
    "species = pd.read_csv('assets/species.csv', usecols=['Park Name', 'Category', 'Scientific Name', 'Common Names', 'Occurrence', 'Nativeness', 'Abundance', 'Conservation Status'])"
   ]
  },
  {
   "cell_type": "code",
   "execution_count": 5,
   "id": "2b2f7d0b",
   "metadata": {},
   "outputs": [
    {
     "data": {
      "text/html": [
       "<div>\n",
       "<style scoped>\n",
       "    .dataframe tbody tr th:only-of-type {\n",
       "        vertical-align: middle;\n",
       "    }\n",
       "\n",
       "    .dataframe tbody tr th {\n",
       "        vertical-align: top;\n",
       "    }\n",
       "\n",
       "    .dataframe thead th {\n",
       "        text-align: right;\n",
       "    }\n",
       "</style>\n",
       "<table border=\"1\" class=\"dataframe\">\n",
       "  <thead>\n",
       "    <tr style=\"text-align: right;\">\n",
       "      <th></th>\n",
       "      <th>Park Name</th>\n",
       "      <th>Category</th>\n",
       "      <th>Scientific Name</th>\n",
       "      <th>Common Names</th>\n",
       "      <th>Occurrence</th>\n",
       "      <th>Nativeness</th>\n",
       "      <th>Abundance</th>\n",
       "      <th>Conservation Status</th>\n",
       "    </tr>\n",
       "  </thead>\n",
       "  <tbody>\n",
       "    <tr>\n",
       "      <th>0</th>\n",
       "      <td>Acadia National Park</td>\n",
       "      <td>Mammal</td>\n",
       "      <td>Alces alces</td>\n",
       "      <td>Moose</td>\n",
       "      <td>Present</td>\n",
       "      <td>Native</td>\n",
       "      <td>Rare</td>\n",
       "      <td>NaN</td>\n",
       "    </tr>\n",
       "    <tr>\n",
       "      <th>1</th>\n",
       "      <td>Acadia National Park</td>\n",
       "      <td>Mammal</td>\n",
       "      <td>Odocoileus virginianus</td>\n",
       "      <td>Northern White-Tailed Deer, Virginia Deer, Whi...</td>\n",
       "      <td>Present</td>\n",
       "      <td>Native</td>\n",
       "      <td>Abundant</td>\n",
       "      <td>NaN</td>\n",
       "    </tr>\n",
       "    <tr>\n",
       "      <th>2</th>\n",
       "      <td>Acadia National Park</td>\n",
       "      <td>Mammal</td>\n",
       "      <td>Canis latrans</td>\n",
       "      <td>Coyote, Eastern Coyote</td>\n",
       "      <td>Present</td>\n",
       "      <td>Not Native</td>\n",
       "      <td>Common</td>\n",
       "      <td>Species of Concern</td>\n",
       "    </tr>\n",
       "    <tr>\n",
       "      <th>3</th>\n",
       "      <td>Acadia National Park</td>\n",
       "      <td>Mammal</td>\n",
       "      <td>Canis lupus</td>\n",
       "      <td>Eastern Timber Wolf, Gray Wolf, Timber Wolf</td>\n",
       "      <td>Not Confirmed</td>\n",
       "      <td>Native</td>\n",
       "      <td>NaN</td>\n",
       "      <td>Endangered</td>\n",
       "    </tr>\n",
       "    <tr>\n",
       "      <th>4</th>\n",
       "      <td>Acadia National Park</td>\n",
       "      <td>Mammal</td>\n",
       "      <td>Vulpes vulpes</td>\n",
       "      <td>Black Fox, Cross Fox, Eastern Red Fox, Fox, Re...</td>\n",
       "      <td>Present</td>\n",
       "      <td>Unknown</td>\n",
       "      <td>Common</td>\n",
       "      <td>NaN</td>\n",
       "    </tr>\n",
       "  </tbody>\n",
       "</table>\n",
       "</div>"
      ],
      "text/plain": [
       "              Park Name Category         Scientific Name  \\\n",
       "0  Acadia National Park   Mammal             Alces alces   \n",
       "1  Acadia National Park   Mammal  Odocoileus virginianus   \n",
       "2  Acadia National Park   Mammal           Canis latrans   \n",
       "3  Acadia National Park   Mammal             Canis lupus   \n",
       "4  Acadia National Park   Mammal           Vulpes vulpes   \n",
       "\n",
       "                                        Common Names     Occurrence  \\\n",
       "0                                              Moose        Present   \n",
       "1  Northern White-Tailed Deer, Virginia Deer, Whi...        Present   \n",
       "2                             Coyote, Eastern Coyote        Present   \n",
       "3        Eastern Timber Wolf, Gray Wolf, Timber Wolf  Not Confirmed   \n",
       "4  Black Fox, Cross Fox, Eastern Red Fox, Fox, Re...        Present   \n",
       "\n",
       "   Nativeness Abundance Conservation Status  \n",
       "0      Native      Rare                 NaN  \n",
       "1      Native  Abundant                 NaN  \n",
       "2  Not Native    Common  Species of Concern  \n",
       "3      Native       NaN          Endangered  \n",
       "4     Unknown    Common                 NaN  "
      ]
     },
     "execution_count": 5,
     "metadata": {},
     "output_type": "execute_result"
    }
   ],
   "source": [
    "# display first five rows to inspect data structure/content\n",
    "species.head()"
   ]
  },
  {
   "cell_type": "markdown",
   "id": "539d4a8a",
   "metadata": {},
   "source": [
    "## 3. Inspect and clean the datasets"
   ]
  },
  {
   "cell_type": "code",
   "execution_count": 6,
   "id": "e06da733",
   "metadata": {},
   "outputs": [
    {
     "data": {
      "text/plain": [
       "(56, 4)"
      ]
     },
     "execution_count": 6,
     "metadata": {},
     "output_type": "execute_result"
    }
   ],
   "source": [
    "#check rows and columns for parks\n",
    "parks.shape"
   ]
  },
  {
   "cell_type": "code",
   "execution_count": 7,
   "id": "8c157957",
   "metadata": {},
   "outputs": [
    {
     "data": {
      "text/plain": [
       "(119248, 8)"
      ]
     },
     "execution_count": 7,
     "metadata": {},
     "output_type": "execute_result"
    }
   ],
   "source": [
    "#check rows and columns for species\n",
    "species.shape"
   ]
  },
  {
   "cell_type": "code",
   "execution_count": 8,
   "id": "747b8dd5",
   "metadata": {
    "scrolled": true
   },
   "outputs": [
    {
     "name": "stdout",
     "output_type": "stream",
     "text": [
      "<class 'pandas.core.frame.DataFrame'>\n",
      "RangeIndex: 56 entries, 0 to 55\n",
      "Data columns (total 4 columns):\n",
      " #   Column     Non-Null Count  Dtype \n",
      "---  ------     --------------  ----- \n",
      " 0   Park Code  56 non-null     object\n",
      " 1   Park Name  56 non-null     object\n",
      " 2   State      56 non-null     object\n",
      " 3   Acres      56 non-null     int64 \n",
      "dtypes: int64(1), object(3)\n",
      "memory usage: 1.9+ KB\n"
     ]
    }
   ],
   "source": [
    "# check dtypes, etc. for parks\n",
    "parks.info()"
   ]
  },
  {
   "cell_type": "code",
   "execution_count": 9,
   "id": "ba01db23",
   "metadata": {
    "scrolled": true
   },
   "outputs": [
    {
     "name": "stdout",
     "output_type": "stream",
     "text": [
      "<class 'pandas.core.frame.DataFrame'>\n",
      "RangeIndex: 119248 entries, 0 to 119247\n",
      "Data columns (total 8 columns):\n",
      " #   Column               Non-Null Count   Dtype \n",
      "---  ------               --------------   ----- \n",
      " 0   Park Name            119248 non-null  object\n",
      " 1   Category             119248 non-null  object\n",
      " 2   Scientific Name      119248 non-null  object\n",
      " 3   Common Names         119248 non-null  object\n",
      " 4   Occurrence           99106 non-null   object\n",
      " 5   Nativeness           94203 non-null   object\n",
      " 6   Abundance            76306 non-null   object\n",
      " 7   Conservation Status  4718 non-null    object\n",
      "dtypes: object(8)\n",
      "memory usage: 7.3+ MB\n"
     ]
    }
   ],
   "source": [
    "# check dtypes, etc. for species\n",
    "species.info()"
   ]
  },
  {
   "cell_type": "code",
   "execution_count": 10,
   "id": "4b49654e",
   "metadata": {},
   "outputs": [
    {
     "name": "stdout",
     "output_type": "stream",
     "text": [
      "number of duplicates: 0\n"
     ]
    }
   ],
   "source": [
    "# check for duplicates in parks\n",
    "duplicates_parks = parks.duplicated()\n",
    "print(\"number of duplicates:\", duplicates_parks.sum())"
   ]
  },
  {
   "cell_type": "code",
   "execution_count": 11,
   "id": "2290bc3a",
   "metadata": {},
   "outputs": [
    {
     "name": "stdout",
     "output_type": "stream",
     "text": [
      "number of duplicates: 81\n"
     ]
    }
   ],
   "source": [
    "# check for duplicates in species\n",
    "duplicates_species = species.duplicated()\n",
    "print(\"number of duplicates:\", duplicates_species.sum())"
   ]
  },
  {
   "cell_type": "code",
   "execution_count": 12,
   "id": "82151ed6",
   "metadata": {},
   "outputs": [
    {
     "data": {
      "text/html": [
       "<div>\n",
       "<style scoped>\n",
       "    .dataframe tbody tr th:only-of-type {\n",
       "        vertical-align: middle;\n",
       "    }\n",
       "\n",
       "    .dataframe tbody tr th {\n",
       "        vertical-align: top;\n",
       "    }\n",
       "\n",
       "    .dataframe thead th {\n",
       "        text-align: right;\n",
       "    }\n",
       "</style>\n",
       "<table border=\"1\" class=\"dataframe\">\n",
       "  <thead>\n",
       "    <tr style=\"text-align: right;\">\n",
       "      <th></th>\n",
       "      <th>Park Name</th>\n",
       "      <th>Category</th>\n",
       "      <th>Scientific Name</th>\n",
       "      <th>Common Names</th>\n",
       "      <th>Occurrence</th>\n",
       "      <th>Nativeness</th>\n",
       "      <th>Abundance</th>\n",
       "      <th>Conservation Status</th>\n",
       "    </tr>\n",
       "  </thead>\n",
       "  <tbody>\n",
       "    <tr>\n",
       "      <th>20187</th>\n",
       "      <td>Crater Lake National Park</td>\n",
       "      <td>Vascular Plant</td>\n",
       "      <td>Lupinus lepidus ssp. lyallii</td>\n",
       "      <td>None</td>\n",
       "      <td>Present</td>\n",
       "      <td>Native</td>\n",
       "      <td>Unknown</td>\n",
       "      <td>NaN</td>\n",
       "    </tr>\n",
       "    <tr>\n",
       "      <th>20188</th>\n",
       "      <td>Crater Lake National Park</td>\n",
       "      <td>Vascular Plant</td>\n",
       "      <td>Lupinus lepidus ssp. lyallii</td>\n",
       "      <td>None</td>\n",
       "      <td>Present</td>\n",
       "      <td>Native</td>\n",
       "      <td>Unknown</td>\n",
       "      <td>NaN</td>\n",
       "    </tr>\n",
       "    <tr>\n",
       "      <th>21263</th>\n",
       "      <td>Crater Lake National Park</td>\n",
       "      <td>Nonvascular Plant</td>\n",
       "      <td>Ankistrodesmus falcatus var. acicularis</td>\n",
       "      <td>None</td>\n",
       "      <td>NaN</td>\n",
       "      <td>NaN</td>\n",
       "      <td>NaN</td>\n",
       "      <td>NaN</td>\n",
       "    </tr>\n",
       "    <tr>\n",
       "      <th>21264</th>\n",
       "      <td>Crater Lake National Park</td>\n",
       "      <td>Nonvascular Plant</td>\n",
       "      <td>Ankistrodesmus falcatus var. acicularis</td>\n",
       "      <td>None</td>\n",
       "      <td>NaN</td>\n",
       "      <td>NaN</td>\n",
       "      <td>NaN</td>\n",
       "      <td>NaN</td>\n",
       "    </tr>\n",
       "    <tr>\n",
       "      <th>23251</th>\n",
       "      <td>Cuyahoga Valley National Park</td>\n",
       "      <td>Vascular Plant</td>\n",
       "      <td>Acorus calamus</td>\n",
       "      <td>Sweet Flag</td>\n",
       "      <td>Present</td>\n",
       "      <td>Native</td>\n",
       "      <td>Uncommon</td>\n",
       "      <td>NaN</td>\n",
       "    </tr>\n",
       "    <tr>\n",
       "      <th>...</th>\n",
       "      <td>...</td>\n",
       "      <td>...</td>\n",
       "      <td>...</td>\n",
       "      <td>...</td>\n",
       "      <td>...</td>\n",
       "      <td>...</td>\n",
       "      <td>...</td>\n",
       "      <td>...</td>\n",
       "    </tr>\n",
       "    <tr>\n",
       "      <th>103957</th>\n",
       "      <td>Shenandoah National Park</td>\n",
       "      <td>Vascular Plant</td>\n",
       "      <td>Rosa cinnamomea</td>\n",
       "      <td>Cinnamon Rose</td>\n",
       "      <td>NaN</td>\n",
       "      <td>NaN</td>\n",
       "      <td>NaN</td>\n",
       "      <td>NaN</td>\n",
       "    </tr>\n",
       "    <tr>\n",
       "      <th>111697</th>\n",
       "      <td>Yellowstone National Park</td>\n",
       "      <td>Bird</td>\n",
       "      <td>Cardellina pusilla</td>\n",
       "      <td>Wilson's Warbler</td>\n",
       "      <td>Present</td>\n",
       "      <td>Native</td>\n",
       "      <td>Uncommon</td>\n",
       "      <td>NaN</td>\n",
       "    </tr>\n",
       "    <tr>\n",
       "      <th>111698</th>\n",
       "      <td>Yellowstone National Park</td>\n",
       "      <td>Bird</td>\n",
       "      <td>Cardellina pusilla</td>\n",
       "      <td>Wilson's Warbler</td>\n",
       "      <td>Present</td>\n",
       "      <td>Native</td>\n",
       "      <td>Uncommon</td>\n",
       "      <td>NaN</td>\n",
       "    </tr>\n",
       "    <tr>\n",
       "      <th>113986</th>\n",
       "      <td>Yellowstone National Park</td>\n",
       "      <td>Insect</td>\n",
       "      <td>Atherix</td>\n",
       "      <td>None</td>\n",
       "      <td>Present</td>\n",
       "      <td>Unknown</td>\n",
       "      <td>Unknown</td>\n",
       "      <td>NaN</td>\n",
       "    </tr>\n",
       "    <tr>\n",
       "      <th>113987</th>\n",
       "      <td>Yellowstone National Park</td>\n",
       "      <td>Insect</td>\n",
       "      <td>Atherix</td>\n",
       "      <td>None</td>\n",
       "      <td>Present</td>\n",
       "      <td>Unknown</td>\n",
       "      <td>Unknown</td>\n",
       "      <td>NaN</td>\n",
       "    </tr>\n",
       "  </tbody>\n",
       "</table>\n",
       "<p>161 rows × 8 columns</p>\n",
       "</div>"
      ],
      "text/plain": [
       "                            Park Name           Category  \\\n",
       "20187       Crater Lake National Park     Vascular Plant   \n",
       "20188       Crater Lake National Park     Vascular Plant   \n",
       "21263       Crater Lake National Park  Nonvascular Plant   \n",
       "21264       Crater Lake National Park  Nonvascular Plant   \n",
       "23251   Cuyahoga Valley National Park     Vascular Plant   \n",
       "...                               ...                ...   \n",
       "103957       Shenandoah National Park     Vascular Plant   \n",
       "111697      Yellowstone National Park               Bird   \n",
       "111698      Yellowstone National Park               Bird   \n",
       "113986      Yellowstone National Park             Insect   \n",
       "113987      Yellowstone National Park             Insect   \n",
       "\n",
       "                                Scientific Name      Common Names Occurrence  \\\n",
       "20187              Lupinus lepidus ssp. lyallii              None    Present   \n",
       "20188              Lupinus lepidus ssp. lyallii              None    Present   \n",
       "21263   Ankistrodesmus falcatus var. acicularis              None        NaN   \n",
       "21264   Ankistrodesmus falcatus var. acicularis              None        NaN   \n",
       "23251                            Acorus calamus        Sweet Flag    Present   \n",
       "...                                         ...               ...        ...   \n",
       "103957                          Rosa cinnamomea     Cinnamon Rose        NaN   \n",
       "111697                       Cardellina pusilla  Wilson's Warbler    Present   \n",
       "111698                       Cardellina pusilla  Wilson's Warbler    Present   \n",
       "113986                                  Atherix              None    Present   \n",
       "113987                                  Atherix              None    Present   \n",
       "\n",
       "       Nativeness Abundance Conservation Status  \n",
       "20187      Native   Unknown                 NaN  \n",
       "20188      Native   Unknown                 NaN  \n",
       "21263         NaN       NaN                 NaN  \n",
       "21264         NaN       NaN                 NaN  \n",
       "23251      Native  Uncommon                 NaN  \n",
       "...           ...       ...                 ...  \n",
       "103957        NaN       NaN                 NaN  \n",
       "111697     Native  Uncommon                 NaN  \n",
       "111698     Native  Uncommon                 NaN  \n",
       "113986    Unknown   Unknown                 NaN  \n",
       "113987    Unknown   Unknown                 NaN  \n",
       "\n",
       "[161 rows x 8 columns]"
      ]
     },
     "execution_count": 12,
     "metadata": {},
     "output_type": "execute_result"
    }
   ],
   "source": [
    "# identify which rows in species are duplicates\n",
    "duplicate_rows_species = species[species.duplicated(keep=False)]\n",
    "duplicate_rows_species"
   ]
  },
  {
   "cell_type": "code",
   "execution_count": 13,
   "id": "58108e64",
   "metadata": {},
   "outputs": [],
   "source": [
    "# drop duplicate rows in species\n",
    "species_drop = species.drop_duplicates()"
   ]
  },
  {
   "cell_type": "code",
   "execution_count": 14,
   "id": "36ece63a",
   "metadata": {},
   "outputs": [
    {
     "data": {
      "text/plain": [
       "119167"
      ]
     },
     "execution_count": 14,
     "metadata": {},
     "output_type": "execute_result"
    }
   ],
   "source": [
    "# check how many rows are left in species after duplicates dropped \n",
    "len(species_drop.index)"
   ]
  },
  {
   "cell_type": "markdown",
   "id": "d226ff79",
   "metadata": {},
   "source": [
    "There were 119248 rows before dropping duplicates, so after dropping 81 duplicates, there are 119167 rows."
   ]
  },
  {
   "cell_type": "markdown",
   "id": "97a74526",
   "metadata": {},
   "source": [
    "## 4. Merge data and clean dataframe"
   ]
  },
  {
   "cell_type": "code",
   "execution_count": 15,
   "id": "15cad3e6",
   "metadata": {},
   "outputs": [],
   "source": [
    "# merge datasets for parks and species without duplicates\n",
    "df = pd.merge(parks, species_drop, left_on='Park Name', right_on='Park Name')"
   ]
  },
  {
   "cell_type": "code",
   "execution_count": 16,
   "id": "f823e3ee",
   "metadata": {},
   "outputs": [
    {
     "data": {
      "text/html": [
       "<div>\n",
       "<style scoped>\n",
       "    .dataframe tbody tr th:only-of-type {\n",
       "        vertical-align: middle;\n",
       "    }\n",
       "\n",
       "    .dataframe tbody tr th {\n",
       "        vertical-align: top;\n",
       "    }\n",
       "\n",
       "    .dataframe thead th {\n",
       "        text-align: right;\n",
       "    }\n",
       "</style>\n",
       "<table border=\"1\" class=\"dataframe\">\n",
       "  <thead>\n",
       "    <tr style=\"text-align: right;\">\n",
       "      <th></th>\n",
       "      <th>Park Code</th>\n",
       "      <th>Park Name</th>\n",
       "      <th>State</th>\n",
       "      <th>Acres</th>\n",
       "      <th>Category</th>\n",
       "      <th>Scientific Name</th>\n",
       "      <th>Common Names</th>\n",
       "      <th>Occurrence</th>\n",
       "      <th>Nativeness</th>\n",
       "      <th>Abundance</th>\n",
       "      <th>Conservation Status</th>\n",
       "    </tr>\n",
       "  </thead>\n",
       "  <tbody>\n",
       "    <tr>\n",
       "      <th>0</th>\n",
       "      <td>ACAD</td>\n",
       "      <td>Acadia National Park</td>\n",
       "      <td>ME</td>\n",
       "      <td>47390</td>\n",
       "      <td>Mammal</td>\n",
       "      <td>Alces alces</td>\n",
       "      <td>Moose</td>\n",
       "      <td>Present</td>\n",
       "      <td>Native</td>\n",
       "      <td>Rare</td>\n",
       "      <td>NaN</td>\n",
       "    </tr>\n",
       "    <tr>\n",
       "      <th>1</th>\n",
       "      <td>ACAD</td>\n",
       "      <td>Acadia National Park</td>\n",
       "      <td>ME</td>\n",
       "      <td>47390</td>\n",
       "      <td>Mammal</td>\n",
       "      <td>Odocoileus virginianus</td>\n",
       "      <td>Northern White-Tailed Deer, Virginia Deer, Whi...</td>\n",
       "      <td>Present</td>\n",
       "      <td>Native</td>\n",
       "      <td>Abundant</td>\n",
       "      <td>NaN</td>\n",
       "    </tr>\n",
       "    <tr>\n",
       "      <th>2</th>\n",
       "      <td>ACAD</td>\n",
       "      <td>Acadia National Park</td>\n",
       "      <td>ME</td>\n",
       "      <td>47390</td>\n",
       "      <td>Mammal</td>\n",
       "      <td>Canis latrans</td>\n",
       "      <td>Coyote, Eastern Coyote</td>\n",
       "      <td>Present</td>\n",
       "      <td>Not Native</td>\n",
       "      <td>Common</td>\n",
       "      <td>Species of Concern</td>\n",
       "    </tr>\n",
       "    <tr>\n",
       "      <th>3</th>\n",
       "      <td>ACAD</td>\n",
       "      <td>Acadia National Park</td>\n",
       "      <td>ME</td>\n",
       "      <td>47390</td>\n",
       "      <td>Mammal</td>\n",
       "      <td>Canis lupus</td>\n",
       "      <td>Eastern Timber Wolf, Gray Wolf, Timber Wolf</td>\n",
       "      <td>Not Confirmed</td>\n",
       "      <td>Native</td>\n",
       "      <td>NaN</td>\n",
       "      <td>Endangered</td>\n",
       "    </tr>\n",
       "    <tr>\n",
       "      <th>4</th>\n",
       "      <td>ACAD</td>\n",
       "      <td>Acadia National Park</td>\n",
       "      <td>ME</td>\n",
       "      <td>47390</td>\n",
       "      <td>Mammal</td>\n",
       "      <td>Vulpes vulpes</td>\n",
       "      <td>Black Fox, Cross Fox, Eastern Red Fox, Fox, Re...</td>\n",
       "      <td>Present</td>\n",
       "      <td>Unknown</td>\n",
       "      <td>Common</td>\n",
       "      <td>NaN</td>\n",
       "    </tr>\n",
       "  </tbody>\n",
       "</table>\n",
       "</div>"
      ],
      "text/plain": [
       "  Park Code             Park Name State  Acres Category  \\\n",
       "0      ACAD  Acadia National Park    ME  47390   Mammal   \n",
       "1      ACAD  Acadia National Park    ME  47390   Mammal   \n",
       "2      ACAD  Acadia National Park    ME  47390   Mammal   \n",
       "3      ACAD  Acadia National Park    ME  47390   Mammal   \n",
       "4      ACAD  Acadia National Park    ME  47390   Mammal   \n",
       "\n",
       "          Scientific Name                                       Common Names  \\\n",
       "0             Alces alces                                              Moose   \n",
       "1  Odocoileus virginianus  Northern White-Tailed Deer, Virginia Deer, Whi...   \n",
       "2           Canis latrans                             Coyote, Eastern Coyote   \n",
       "3             Canis lupus        Eastern Timber Wolf, Gray Wolf, Timber Wolf   \n",
       "4           Vulpes vulpes  Black Fox, Cross Fox, Eastern Red Fox, Fox, Re...   \n",
       "\n",
       "      Occurrence  Nativeness Abundance Conservation Status  \n",
       "0        Present      Native      Rare                 NaN  \n",
       "1        Present      Native  Abundant                 NaN  \n",
       "2        Present  Not Native    Common  Species of Concern  \n",
       "3  Not Confirmed      Native       NaN          Endangered  \n",
       "4        Present     Unknown    Common                 NaN  "
      ]
     },
     "execution_count": 16,
     "metadata": {},
     "output_type": "execute_result"
    }
   ],
   "source": [
    "# display first five rows to inspect data structure/content\n",
    "df.head()"
   ]
  },
  {
   "cell_type": "code",
   "execution_count": 17,
   "id": "b9be25aa",
   "metadata": {},
   "outputs": [
    {
     "data": {
      "text/plain": [
       "(119167, 11)"
      ]
     },
     "execution_count": 17,
     "metadata": {},
     "output_type": "execute_result"
    }
   ],
   "source": [
    "#check rows and columns for dataframe\n",
    "df.shape"
   ]
  },
  {
   "cell_type": "code",
   "execution_count": 18,
   "id": "a8f0f48a",
   "metadata": {},
   "outputs": [
    {
     "data": {
      "text/plain": [
       "Park Code                   0\n",
       "Park Name                   0\n",
       "State                       0\n",
       "Acres                       0\n",
       "Category                    0\n",
       "Scientific Name             0\n",
       "Common Names                0\n",
       "Occurrence              20078\n",
       "Nativeness              24981\n",
       "Abundance               42877\n",
       "Conservation Status    114449\n",
       "dtype: int64"
      ]
     },
     "execution_count": 18,
     "metadata": {},
     "output_type": "execute_result"
    }
   ],
   "source": [
    "# check for missing values\n",
    "df.isnull().sum()"
   ]
  },
  {
   "cell_type": "code",
   "execution_count": 19,
   "id": "0257f383",
   "metadata": {},
   "outputs": [],
   "source": [
    "# replace missing values in the dataframe with \"Not listed\"\n",
    "df = df.fillna(\"Not listed\")"
   ]
  },
  {
   "cell_type": "markdown",
   "id": "e551cda1",
   "metadata": {},
   "source": [
    "## 5. Analyze data"
   ]
  },
  {
   "cell_type": "markdown",
   "id": "e4cf500f",
   "metadata": {},
   "source": [
    "### Which parks have the most biodiversity?"
   ]
  },
  {
   "cell_type": "code",
   "execution_count": 20,
   "id": "cba7dc0d",
   "metadata": {},
   "outputs": [],
   "source": [
    "# count species for parks\n",
    "count_species = df['Park Name'].value_counts()"
   ]
  },
  {
   "cell_type": "code",
   "execution_count": 21,
   "id": "9bc87051",
   "metadata": {},
   "outputs": [
    {
     "data": {
      "text/plain": [
       "Great Smoky Mountains National Park    6623\n",
       "Redwood National Park                  6258\n",
       "Shenandoah National Park               4651\n",
       "Death Valley National Park             4438\n",
       "Yellowstone National Park              3964\n",
       "Crater Lake National Park              3758\n",
       "North Cascades National Park           3363\n",
       "Hawaii Volcanoes National Park         3298\n",
       "Rocky Mountain National Park           3140\n",
       "Great Basin National Park              2653\n",
       "Name: Park Name, dtype: int64"
      ]
     },
     "execution_count": 21,
     "metadata": {},
     "output_type": "execute_result"
    }
   ],
   "source": [
    "# show the top 10 parks with the most species/biodiversity\n",
    "count_species.head(10)"
   ]
  },
  {
   "cell_type": "code",
   "execution_count": 22,
   "id": "70d19293",
   "metadata": {},
   "outputs": [
    {
     "data": {
      "image/png": "[encoded data removed]",
      "text/plain": [
       "<Figure size 640x480 with 1 Axes>"
      ]
     },
     "metadata": {},
     "output_type": "display_data"
    }
   ],
   "source": [
    "# plot the top 10 parks with the most species/biodiversity\n",
    "\n",
    "top_10_parks = count_species.head(10)\n",
    "\n",
    "x = top_10_parks.index\n",
    "y = top_10_parks.values\n",
    "\n",
    "plt.barh(x, y)\n",
    "plt.gca().invert_yaxis()\n",
    "plt.xlabel('Number of Species')\n",
    "plt.ylabel('Park Name')\n",
    "plt.title('Top 10 U.S. National Parks With the Most Biodiversity', fontweight='bold')\n",
    "\n",
    "plt.show()"
   ]
  },
  {
   "cell_type": "code",
   "execution_count": 23,
   "id": "90592dee",
   "metadata": {},
   "outputs": [
    {
     "name": "stdout",
     "output_type": "stream",
     "text": [
      "Number of U.S. National Parks =  56\n"
     ]
    }
   ],
   "source": [
    "# figure out the number of parks \n",
    "number_of_parks = len(df['Park Name'].unique())\n",
    "print('Number of U.S. National Parks = ', number_of_parks)"
   ]
  },
  {
   "cell_type": "markdown",
   "id": "ca8e992e",
   "metadata": {},
   "source": [
    "#### Notes on Findings\n",
    "Out of 56 U.S. National Parks:\n",
    "- With 6623 species, the park with the most biodiversity is the Great Smoky Mountains National Park.\n",
    "- With 6258 species, the park with the second most biodiversity is Redwood National Park.\n",
    "- The other parks in the top 10 all have over 2500 species. \n",
    "- The top 10 parks are spread out across the country."
   ]
  },
  {
   "cell_type": "markdown",
   "id": "d9a8f86a",
   "metadata": {},
   "source": [
    "### Which parks have the least biodiversity?"
   ]
  },
  {
   "cell_type": "code",
   "execution_count": 24,
   "id": "c93396d5",
   "metadata": {},
   "outputs": [
    {
     "data": {
      "text/plain": [
       "Dry Tortugas National Park                      848\n",
       "Petrified Forest National Park                  853\n",
       "Great Sand Dunes National Park and Preserve     952\n",
       "Kobuk Valley National Park                     1024\n",
       "Arches National Park                           1048\n",
       "Kenai Fjords National Park                     1057\n",
       "Black Canyon of the Gunnison National Park     1106\n",
       "Theodore Roosevelt National Park               1165\n",
       "Canyonlands National Park                      1223\n",
       "Katmai National Park and Preserve              1225\n",
       "Name: Park Name, dtype: int64"
      ]
     },
     "execution_count": 24,
     "metadata": {},
     "output_type": "execute_result"
    }
   ],
   "source": [
    "# count species for parks and put in ascending order\n",
    "count_species_asc = df['Park Name'].value_counts(ascending=True)\n",
    "\n",
    "# show the top 10 parks with the least species/biodiversity\n",
    "count_species_asc.head(10)"
   ]
  },
  {
   "cell_type": "code",
   "execution_count": 25,
   "id": "35466f33",
   "metadata": {},
   "outputs": [
    {
     "data": {
      "image/png": "[encoded data removed]",
      "text/plain": [
       "<Figure size 640x480 with 1 Axes>"
      ]
     },
     "metadata": {},
     "output_type": "display_data"
    }
   ],
   "source": [
    "# plot the 10 parks with the least species/biodiversity\n",
    "\n",
    "least_bio_parks = count_species_asc.head(10)\n",
    "\n",
    "x = least_bio_parks.index\n",
    "y = least_bio_parks.values\n",
    "\n",
    "plt.barh(x, y)\n",
    "plt.gca().invert_yaxis()\n",
    "plt.xlabel('Number of Species')\n",
    "plt.ylabel('Park Name')\n",
    "plt.title('U.S. National Parks With the Least Biodiversity', fontweight='bold')\n",
    "\n",
    "plt.show()"
   ]
  },
  {
   "cell_type": "markdown",
   "id": "ca6e0864",
   "metadata": {},
   "source": [
    "#### Notes on Findings\n",
    "- With 848 species, the park with the least biodiversity is Dry Tortugas National Park.\n",
    "- With 853 species, the park with the second least biodiversity Petrified Forest National Park.\n",
    "- The parks with the least biodiversity are spread across the country, though three are in Alaska and two are in Utah."
   ]
  },
  {
   "cell_type": "markdown",
   "id": "6de74c83",
   "metadata": {},
   "source": [
    "### Is there a relationship between the size of a park and biodiversity?"
   ]
  },
  {
   "cell_type": "code",
   "execution_count": 26,
   "id": "6e3c0fc0",
   "metadata": {},
   "outputs": [],
   "source": [
    "# group by park name\n",
    "group_by_park = df.groupby('Park Name')"
   ]
  },
  {
   "cell_type": "code",
   "execution_count": 27,
   "id": "87d10099",
   "metadata": {},
   "outputs": [],
   "source": [
    "# create variable for size of park, selecting the Acres column of grouped dataframe and computing the max value of park sizes in Acres \n",
    "park_size = group_by_park['Acres'].max()"
   ]
  },
  {
   "cell_type": "code",
   "execution_count": 28,
   "id": "25fcfda5",
   "metadata": {},
   "outputs": [
    {
     "data": {
      "text/plain": [
       "Park Name\n",
       "Wrangell - St Elias National Park and Preserve    8323148\n",
       "Gates Of The Arctic National Park and Preserve    7523898\n",
       "Death Valley National Park                        4740912\n",
       "Katmai National Park and Preserve                 3674530\n",
       "Denali National Park and Preserve                 3372402\n",
       "Glacier Bay National Park and Preserve            3224840\n",
       "Lake Clark National Park and Preserve             2619733\n",
       "Yellowstone National Park                         2219791\n",
       "Kobuk Valley National Park                        1750717\n",
       "Everglades National Park                          1508538\n",
       "Grand Canyon National Park                        1217403\n",
       "Glacier National Park                             1013572\n",
       "Olympic National Park                              922651\n",
       "Sequoia and Kings Canyon National Parks            865952\n",
       "Big Bend National Park                             801163\n",
       "Joshua Tree National Park                          789745\n",
       "Yosemite National Park                             761266\n",
       "Kenai Fjords National Park                         669983\n",
       "Isle Royale National Park                          571790\n",
       "Great Smoky Mountains National Park                521490\n",
       "North Cascades National Park                       504781\n",
       "Canyonlands National Park                          337598\n",
       "Hawaii Volcanoes National Park                     323431\n",
       "Grand Teton National Park                          309995\n",
       "Rocky Mountain National Park                       265828\n",
       "Channel Islands National Park                      249561\n",
       "Badlands National Park                             242756\n",
       "Capitol Reef National Park                         241904\n",
       "Mount Rainier National Park                        235625\n",
       "Voyageurs National Park                            218200\n",
       "Shenandoah National Park                           199045\n",
       "Crater Lake National Park                          183224\n",
       "Biscayne National Park                             172924\n",
       "Zion National Park                                 146598\n",
       "Redwood National Park                              112512\n",
       "Lassen Volcanic National Park                      106372\n",
       "Petrified Forest National Park                      93533\n",
       "Saguaro National Park                               91440\n",
       "Guadalupe Mountains National Park                   86416\n",
       "Great Basin National Park                           77180\n",
       "Arches National Park                                76519\n",
       "Theodore Roosevelt National Park                    70447\n",
       "Dry Tortugas National Park                          64701\n",
       "Mammoth Cave National Park                          52830\n",
       "Mesa Verde National Park                            52122\n",
       "Acadia National Park                                47390\n",
       "Carlsbad Caverns National Park                      46766\n",
       "Great Sand Dunes National Park and Preserve         42984\n",
       "Bryce Canyon National Park                          35835\n",
       "Cuyahoga Valley National Park                       32950\n",
       "Black Canyon of the Gunnison National Park          32950\n",
       "Haleakala National Park                             29094\n",
       "Wind Cave National Park                             28295\n",
       "Pinnacles National Park                             26606\n",
       "Congaree National Park                              26546\n",
       "Hot Springs National Park                            5550\n",
       "Name: Acres, dtype: int64"
      ]
     },
     "execution_count": 28,
     "metadata": {},
     "output_type": "execute_result"
    }
   ],
   "source": [
    "# sort in descending order\n",
    "sorted_park_size = park_size.sort_values(ascending=False)\n",
    "sorted_park_size"
   ]
  },
  {
   "cell_type": "code",
   "execution_count": 29,
   "id": "83bca73f",
   "metadata": {},
   "outputs": [
    {
     "data": {
      "text/plain": [
       "Great Smoky Mountains National Park               6623\n",
       "Redwood National Park                             6258\n",
       "Shenandoah National Park                          4651\n",
       "Death Valley National Park                        4438\n",
       "Yellowstone National Park                         3964\n",
       "Crater Lake National Park                         3758\n",
       "North Cascades National Park                      3363\n",
       "Hawaii Volcanoes National Park                    3298\n",
       "Rocky Mountain National Park                      3140\n",
       "Great Basin National Park                         2653\n",
       "Grand Canyon National Park                        2621\n",
       "Haleakala National Park                           2580\n",
       "Glacier National Park                             2556\n",
       "Mammoth Cave National Park                        2499\n",
       "Congaree National Park                            2321\n",
       "Joshua Tree National Park                         2294\n",
       "Big Bend National Park                            2269\n",
       "Yosemite National Park                            2088\n",
       "Everglades National Park                          2084\n",
       "Grand Teton National Park                         2030\n",
       "Lake Clark National Park and Preserve             2004\n",
       "Sequoia and Kings Canyon National Parks           1995\n",
       "Glacier Bay National Park and Preserve            1957\n",
       "Hot Springs National Park                         1950\n",
       "Olympic National Park                             1948\n",
       "Cuyahoga Valley National Park                     1940\n",
       "Channel Islands National Park                     1885\n",
       "Saguaro National Park                             1832\n",
       "Lassen Volcanic National Park                     1797\n",
       "Wrangell - St Elias National Park and Preserve    1796\n",
       "Zion National Park                                1796\n",
       "Guadalupe Mountains National Park                 1746\n",
       "Mount Rainier National Park                       1743\n",
       "Biscayne National Park                            1726\n",
       "Acadia National Park                              1709\n",
       "Capitol Reef National Park                        1566\n",
       "Carlsbad Caverns National Park                    1536\n",
       "Voyageurs National Park                           1453\n",
       "Pinnacles National Park                           1416\n",
       "Isle Royale National Park                         1397\n",
       "Wind Cave National Park                           1395\n",
       "Badlands National Park                            1389\n",
       "Gates Of The Arctic National Park and Preserve    1353\n",
       "Denali National Park and Preserve                 1320\n",
       "Bryce Canyon National Park                        1286\n",
       "Mesa Verde National Park                          1243\n",
       "Katmai National Park and Preserve                 1225\n",
       "Canyonlands National Park                         1223\n",
       "Theodore Roosevelt National Park                  1165\n",
       "Black Canyon of the Gunnison National Park        1106\n",
       "Kenai Fjords National Park                        1057\n",
       "Arches National Park                              1048\n",
       "Kobuk Valley National Park                        1024\n",
       "Great Sand Dunes National Park and Preserve        952\n",
       "Petrified Forest National Park                     853\n",
       "Dry Tortugas National Park                         848\n",
       "Name: Park Name, dtype: int64"
      ]
     },
     "execution_count": 29,
     "metadata": {},
     "output_type": "execute_result"
    }
   ],
   "source": [
    "count_species"
   ]
  },
  {
   "cell_type": "code",
   "execution_count": 30,
   "id": "4316068d",
   "metadata": {},
   "outputs": [
    {
     "data": {
      "image/png": "[encoded data removed]",
      "text/plain": [
       "<Figure size 640x480 with 1 Axes>"
      ]
     },
     "metadata": {},
     "output_type": "display_data"
    }
   ],
   "source": [
    "# create scatter plot of park size and species count\n",
    "\n",
    "plt.scatter(park_size, count_species)\n",
    "\n",
    "plt.xscale('log')\n",
    "\n",
    "plt.xlabel('Size of Park (Acres)')\n",
    "plt.ylabel('Number of Species')\n",
    "plt.title('Biodiversity vs Size of Park', fontweight='bold')\n",
    "\n",
    "plt.show()"
   ]
  },
  {
   "cell_type": "markdown",
   "id": "cd72b7e3",
   "metadata": {},
   "source": [
    "#### Notes on Findings\n",
    "- The largest park is Wrangell - St Elias National Park and Preserve, and the smallest park is Hot Springs National Park.\n",
    "- The largest park does not have the most species. The smallest park has more species than the largest park.\n",
    "- The scatter plot shows a wide range of variation in biodiversity for a given park size. This suggests that there are other variables that factor into the biodiversity in a park."
   ]
  },
  {
   "cell_type": "markdown",
   "id": "a00e10cd",
   "metadata": {},
   "source": [
    "### Which category of species is the most/least observed in the parks?"
   ]
  },
  {
   "cell_type": "code",
   "execution_count": 31,
   "id": "91bcfae0",
   "metadata": {},
   "outputs": [
    {
     "data": {
      "text/plain": [
       "Vascular Plant         65208\n",
       "Bird                   14600\n",
       "Insect                 14348\n",
       "Fungi                   6140\n",
       "Nonvascular Plant       4276\n",
       "Fish                    3956\n",
       "Mammal                  3867\n",
       "Invertebrate            1566\n",
       "Reptile                 1343\n",
       "Algae                    975\n",
       "Slug/Snail               787\n",
       "Spider/Scorpion          776\n",
       "Amphibian                743\n",
       "Crab/Lobster/Shrimp      582\n",
       "Name: Category, dtype: int64"
      ]
     },
     "execution_count": 31,
     "metadata": {},
     "output_type": "execute_result"
    }
   ],
   "source": [
    "# count number of each category of species\n",
    "df['Category'].value_counts()"
   ]
  },
  {
   "cell_type": "code",
   "execution_count": 32,
   "id": "e1b6ea1a",
   "metadata": {},
   "outputs": [
    {
     "data": {
      "image/png": "[encoded data removed]",
      "text/plain": [
       "<Figure size 640x480 with 1 Axes>"
      ]
     },
     "metadata": {},
     "output_type": "display_data"
    }
   ],
   "source": [
    "# create bar chart of category of species observed in the parks\n",
    "species_in_parks = df['Category'].value_counts()\n",
    "\n",
    "x = species_in_parks.index\n",
    "y = species_in_parks.values\n",
    "\n",
    "plt.barh(x, y)\n",
    "plt.gca().invert_yaxis()\n",
    "plt.xlabel('Number Observed')\n",
    "plt.ylabel('Category of Species')\n",
    "plt.title('Category of Species Observed in the Parks', fontweight='bold')\n",
    "\n",
    "plt.show()"
   ]
  },
  {
   "cell_type": "markdown",
   "id": "d8a65561",
   "metadata": {},
   "source": [
    "#### Note on Findings\n",
    "Vascular Plants are observed far more frequently than any other category of species. Crab/Lobster/Shrimp are the least observed."
   ]
  },
  {
   "cell_type": "markdown",
   "id": "1a062e3e",
   "metadata": {},
   "source": [
    "### Which category of species is present in maximum number for each park?"
   ]
  },
  {
   "cell_type": "code",
   "execution_count": 33,
   "id": "b408343c",
   "metadata": {},
   "outputs": [
    {
     "data": {
      "text/plain": [
       "Park Name\n",
       "Acadia National Park                              Vascular Plant\n",
       "Arches National Park                              Vascular Plant\n",
       "Badlands National Park                            Vascular Plant\n",
       "Big Bend National Park                            Vascular Plant\n",
       "Biscayne National Park                            Vascular Plant\n",
       "Black Canyon of the Gunnison National Park        Vascular Plant\n",
       "Bryce Canyon National Park                        Vascular Plant\n",
       "Canyonlands National Park                         Vascular Plant\n",
       "Capitol Reef National Park                        Vascular Plant\n",
       "Carlsbad Caverns National Park                    Vascular Plant\n",
       "Channel Islands National Park                     Vascular Plant\n",
       "Congaree National Park                            Vascular Plant\n",
       "Crater Lake National Park                         Vascular Plant\n",
       "Cuyahoga Valley National Park                     Vascular Plant\n",
       "Death Valley National Park                        Vascular Plant\n",
       "Denali National Park and Preserve                 Vascular Plant\n",
       "Dry Tortugas National Park                        Vascular Plant\n",
       "Everglades National Park                          Vascular Plant\n",
       "Gates Of The Arctic National Park and Preserve    Vascular Plant\n",
       "Glacier Bay National Park and Preserve            Vascular Plant\n",
       "Glacier National Park                             Vascular Plant\n",
       "Grand Canyon National Park                        Vascular Plant\n",
       "Grand Teton National Park                         Vascular Plant\n",
       "Great Basin National Park                         Vascular Plant\n",
       "Great Sand Dunes National Park and Preserve       Vascular Plant\n",
       "Great Smoky Mountains National Park               Vascular Plant\n",
       "Guadalupe Mountains National Park                 Vascular Plant\n",
       "Haleakala National Park                           Vascular Plant\n",
       "Hawaii Volcanoes National Park                    Vascular Plant\n",
       "Hot Springs National Park                         Vascular Plant\n",
       "Isle Royale National Park                         Vascular Plant\n",
       "Joshua Tree National Park                         Vascular Plant\n",
       "Katmai National Park and Preserve                 Vascular Plant\n",
       "Kenai Fjords National Park                        Vascular Plant\n",
       "Kobuk Valley National Park                        Vascular Plant\n",
       "Lake Clark National Park and Preserve             Vascular Plant\n",
       "Lassen Volcanic National Park                     Vascular Plant\n",
       "Mammoth Cave National Park                        Vascular Plant\n",
       "Mesa Verde National Park                          Vascular Plant\n",
       "Mount Rainier National Park                       Vascular Plant\n",
       "North Cascades National Park                      Vascular Plant\n",
       "Olympic National Park                             Vascular Plant\n",
       "Petrified Forest National Park                    Vascular Plant\n",
       "Pinnacles National Park                           Vascular Plant\n",
       "Redwood National Park                             Vascular Plant\n",
       "Rocky Mountain National Park                      Vascular Plant\n",
       "Saguaro National Park                             Vascular Plant\n",
       "Sequoia and Kings Canyon National Parks           Vascular Plant\n",
       "Shenandoah National Park                          Vascular Plant\n",
       "Theodore Roosevelt National Park                  Vascular Plant\n",
       "Voyageurs National Park                           Vascular Plant\n",
       "Wind Cave National Park                           Vascular Plant\n",
       "Wrangell - St Elias National Park and Preserve    Vascular Plant\n",
       "Yellowstone National Park                         Vascular Plant\n",
       "Yosemite National Park                            Vascular Plant\n",
       "Zion National Park                                Vascular Plant\n",
       "Name: Category, dtype: object"
      ]
     },
     "execution_count": 33,
     "metadata": {},
     "output_type": "execute_result"
    }
   ],
   "source": [
    "# group by park name and return max value of Category for each\n",
    "df.groupby('Park Name')['Category'].max()"
   ]
  },
  {
   "cell_type": "markdown",
   "id": "a7349f4f",
   "metadata": {},
   "source": [
    "#### Note on Findings\n",
    "For all the parks, Vascular Plant is the category of species that are most present."
   ]
  },
  {
   "cell_type": "markdown",
   "id": "400e4b61",
   "metadata": {},
   "source": [
    "### Which category of species is present in minimum number for each park?"
   ]
  },
  {
   "cell_type": "code",
   "execution_count": 34,
   "id": "f26fe7c8",
   "metadata": {},
   "outputs": [
    {
     "data": {
      "text/plain": [
       "Park Name\n",
       "Acadia National Park                              Amphibian\n",
       "Arches National Park                              Amphibian\n",
       "Badlands National Park                            Amphibian\n",
       "Big Bend National Park                            Amphibian\n",
       "Biscayne National Park                            Amphibian\n",
       "Black Canyon of the Gunnison National Park        Amphibian\n",
       "Bryce Canyon National Park                        Amphibian\n",
       "Canyonlands National Park                         Amphibian\n",
       "Capitol Reef National Park                        Amphibian\n",
       "Carlsbad Caverns National Park                    Amphibian\n",
       "Channel Islands National Park                         Algae\n",
       "Congaree National Park                                Algae\n",
       "Crater Lake National Park                             Algae\n",
       "Cuyahoga Valley National Park                     Amphibian\n",
       "Death Valley National Park                            Algae\n",
       "Denali National Park and Preserve                 Amphibian\n",
       "Dry Tortugas National Park                             Bird\n",
       "Everglades National Park                          Amphibian\n",
       "Gates Of The Arctic National Park and Preserve    Amphibian\n",
       "Glacier Bay National Park and Preserve                Algae\n",
       "Glacier National Park                                 Algae\n",
       "Grand Canyon National Park                        Amphibian\n",
       "Grand Teton National Park                             Algae\n",
       "Great Basin National Park                         Amphibian\n",
       "Great Sand Dunes National Park and Preserve       Amphibian\n",
       "Great Smoky Mountains National Park               Amphibian\n",
       "Guadalupe Mountains National Park                 Amphibian\n",
       "Haleakala National Park                           Amphibian\n",
       "Hawaii Volcanoes National Park                    Amphibian\n",
       "Hot Springs National Park                             Algae\n",
       "Isle Royale National Park                         Amphibian\n",
       "Joshua Tree National Park                             Algae\n",
       "Katmai National Park and Preserve                 Amphibian\n",
       "Kenai Fjords National Park                        Amphibian\n",
       "Kobuk Valley National Park                        Amphibian\n",
       "Lake Clark National Park and Preserve             Amphibian\n",
       "Lassen Volcanic National Park                         Algae\n",
       "Mammoth Cave National Park                        Amphibian\n",
       "Mesa Verde National Park                          Amphibian\n",
       "Mount Rainier National Park                       Amphibian\n",
       "North Cascades National Park                      Amphibian\n",
       "Olympic National Park                             Amphibian\n",
       "Petrified Forest National Park                    Amphibian\n",
       "Pinnacles National Park                           Amphibian\n",
       "Redwood National Park                                 Algae\n",
       "Rocky Mountain National Park                          Algae\n",
       "Saguaro National Park                             Amphibian\n",
       "Sequoia and Kings Canyon National Parks           Amphibian\n",
       "Shenandoah National Park                          Amphibian\n",
       "Theodore Roosevelt National Park                  Amphibian\n",
       "Voyageurs National Park                           Amphibian\n",
       "Wind Cave National Park                           Amphibian\n",
       "Wrangell - St Elias National Park and Preserve    Amphibian\n",
       "Yellowstone National Park                             Algae\n",
       "Yosemite National Park                            Amphibian\n",
       "Zion National Park                                Amphibian\n",
       "Name: Category, dtype: object"
      ]
     },
     "execution_count": 34,
     "metadata": {},
     "output_type": "execute_result"
    }
   ],
   "source": [
    "# group by park name and return min value of Category for each\n",
    "df.groupby('Park Name')['Category'].min()"
   ]
  },
  {
   "cell_type": "markdown",
   "id": "ab87ccfa",
   "metadata": {},
   "source": [
    "#### Notes on Findings\n",
    "- For most of the parks, Amphibian is the category of species that are least present.\n",
    "- For the other parks, Algae is the category of species that are least present.\n",
    "- There is only one park (Dry Tortugas National Park) with Bird as the category of species least present."
   ]
  },
  {
   "cell_type": "markdown",
   "id": "8e3ff2c5",
   "metadata": {},
   "source": [
    "### Which park has the highest number of endangered species?"
   ]
  },
  {
   "cell_type": "code",
   "execution_count": 35,
   "id": "0fafb1e1",
   "metadata": {},
   "outputs": [
    {
     "data": {
      "text/plain": [
       "Park Name\n",
       "Hawaii Volcanoes National Park                    44\n",
       "Haleakala National Park                           40\n",
       "Channel Islands National Park                     24\n",
       "Death Valley National Park                        24\n",
       "Redwood National Park                             21\n",
       "Everglades National Park                          16\n",
       "Great Smoky Mountains National Park               13\n",
       "Mammoth Cave National Park                        13\n",
       "Biscayne National Park                            12\n",
       "Big Bend National Park                            11\n",
       "Grand Canyon National Park                        11\n",
       "Glacier Bay National Park and Preserve             9\n",
       "Kenai Fjords National Park                         8\n",
       "Canyonlands National Park                          7\n",
       "Mesa Verde National Park                           6\n",
       "Lassen Volcanic National Park                      6\n",
       "Katmai National Park and Preserve                  6\n",
       "Joshua Tree National Park                          6\n",
       "Capitol Reef National Park                         6\n",
       "Dry Tortugas National Park                         5\n",
       "Wrangell - St Elias National Park and Preserve     5\n",
       "Zion National Park                                 5\n",
       "Petrified Forest National Park                     4\n",
       "Sequoia and Kings Canyon National Parks            4\n",
       "Shenandoah National Park                           4\n",
       "Yosemite National Park                             4\n",
       "Hot Springs National Park                          4\n",
       "Congaree National Park                             4\n",
       "Carlsbad Caverns National Park                     4\n",
       "Crater Lake National Park                          4\n",
       "North Cascades National Park                       3\n",
       "Wind Cave National Park                            3\n",
       "Theodore Roosevelt National Park                   3\n",
       "Acadia National Park                               3\n",
       "Grand Teton National Park                          3\n",
       "Lake Clark National Park and Preserve              3\n",
       "Great Basin National Park                          2\n",
       "Bryce Canyon National Park                         2\n",
       "Badlands National Park                             2\n",
       "Yellowstone National Park                          2\n",
       "Black Canyon of the Gunnison National Park         2\n",
       "Guadalupe Mountains National Park                  2\n",
       "Isle Royale National Park                          2\n",
       "Rocky Mountain National Park                       2\n",
       "Arches National Park                               2\n",
       "Pinnacles National Park                            2\n",
       "Olympic National Park                              2\n",
       "Cuyahoga Valley National Park                      1\n",
       "Saguaro National Park                              1\n",
       "Voyageurs National Park                            1\n",
       "Mount Rainier National Park                        1\n",
       "Name: Conservation Status, dtype: int64"
      ]
     },
     "execution_count": 35,
     "metadata": {},
     "output_type": "execute_result"
    }
   ],
   "source": [
    "# filter to select rows with Endangered in the Conservation Status column\n",
    "endangered_species = df[df['Conservation Status'] == 'Endangered']\n",
    "\n",
    "# group the endangered_species by Park Name and count number of occurences\n",
    "endangered_by_park = endangered_species.groupby('Park Name')['Conservation Status'].count()\n",
    "\n",
    "# sort in descending order\n",
    "endangered_by_park = endangered_by_park.sort_values(ascending=False)\n",
    "endangered_by_park"
   ]
  },
  {
   "cell_type": "code",
   "execution_count": 36,
   "id": "fb606019",
   "metadata": {},
   "outputs": [
    {
     "data": {
      "image/png": "[encoded data removed]",
      "text/plain": [
       "<Figure size 640x480 with 1 Axes>"
      ]
     },
     "metadata": {},
     "output_type": "display_data"
    }
   ],
   "source": [
    "# create bar chart of top 20 parks with endangered species\n",
    "endangered_by_park_20 = endangered_by_park.head(20)\n",
    "\n",
    "x = endangered_by_park_20.index\n",
    "y = endangered_by_park_20.values\n",
    "\n",
    "plt.barh(x, y)\n",
    "plt.gca().invert_yaxis()\n",
    "plt.xlabel('Number of Endangered Species Observed')\n",
    "plt.ylabel('Name of Park')\n",
    "plt.title('Top 20 Parks With Endangered Species', fontweight='bold')\n",
    "\n",
    "plt.show()"
   ]
  },
  {
   "cell_type": "markdown",
   "id": "af108939",
   "metadata": {},
   "source": [
    "#### Notes on Findings\n",
    "- Hawaii Volcanoes National Park has the highest number of endangered species observed with 44 species.\n",
    "- Haleakala National Park has the second highest number of endangered species observed with 40 species.\n",
    "- The top two parks with the highest number of endangered species observed are both in Hawaii."
   ]
  },
  {
   "cell_type": "markdown",
   "id": "66eefb3e",
   "metadata": {},
   "source": [
    "### Is there a relationship between Nativeness and the Conservation Status?"
   ]
  },
  {
   "cell_type": "code",
   "execution_count": 37,
   "id": "ed9baec4",
   "metadata": {},
   "outputs": [
    {
     "data": {
      "text/plain": [
       "Native           75946\n",
       "Not listed       24981\n",
       "Not Native       11095\n",
       "Unknown           7088\n",
       "Present             53\n",
       "Not Confirmed        4\n",
       "Name: Nativeness, dtype: int64"
      ]
     },
     "execution_count": 37,
     "metadata": {},
     "output_type": "execute_result"
    }
   ],
   "source": [
    "# check distribution of values in the Nativeness column\n",
    "df['Nativeness'].value_counts()"
   ]
  },
  {
   "cell_type": "code",
   "execution_count": 38,
   "id": "73808be0",
   "metadata": {},
   "outputs": [
    {
     "data": {
      "text/plain": [
       "Not listed             114449\n",
       "Species of Concern       3843\n",
       "Endangered                374\n",
       "Under Review              194\n",
       "Threatened                184\n",
       "In Recovery                77\n",
       "Proposed Endangered        24\n",
       "Proposed Threatened         7\n",
       "Breeder                     7\n",
       "Resident                    5\n",
       "Migratory                   2\n",
       "Extinct                     1\n",
       "Name: Conservation Status, dtype: int64"
      ]
     },
     "execution_count": 38,
     "metadata": {},
     "output_type": "execute_result"
    }
   ],
   "source": [
    "# check distribution of values in the Conservation Status column\n",
    "df['Conservation Status'].value_counts()"
   ]
  },
  {
   "cell_type": "code",
   "execution_count": 39,
   "id": "1d26f3b0",
   "metadata": {},
   "outputs": [
    {
     "data": {
      "text/html": [
       "<div>\n",
       "<style scoped>\n",
       "    .dataframe tbody tr th:only-of-type {\n",
       "        vertical-align: middle;\n",
       "    }\n",
       "\n",
       "    .dataframe tbody tr th {\n",
       "        vertical-align: top;\n",
       "    }\n",
       "\n",
       "    .dataframe thead th {\n",
       "        text-align: right;\n",
       "    }\n",
       "</style>\n",
       "<table border=\"1\" class=\"dataframe\">\n",
       "  <thead>\n",
       "    <tr style=\"text-align: right;\">\n",
       "      <th>Conservation Status</th>\n",
       "      <th>Breeder</th>\n",
       "      <th>Endangered</th>\n",
       "      <th>Extinct</th>\n",
       "      <th>In Recovery</th>\n",
       "      <th>Migratory</th>\n",
       "      <th>Not listed</th>\n",
       "      <th>Proposed Endangered</th>\n",
       "      <th>Proposed Threatened</th>\n",
       "      <th>Resident</th>\n",
       "      <th>Species of Concern</th>\n",
       "      <th>Threatened</th>\n",
       "      <th>Under Review</th>\n",
       "    </tr>\n",
       "    <tr>\n",
       "      <th>Nativeness</th>\n",
       "      <th></th>\n",
       "      <th></th>\n",
       "      <th></th>\n",
       "      <th></th>\n",
       "      <th></th>\n",
       "      <th></th>\n",
       "      <th></th>\n",
       "      <th></th>\n",
       "      <th></th>\n",
       "      <th></th>\n",
       "      <th></th>\n",
       "      <th></th>\n",
       "    </tr>\n",
       "  </thead>\n",
       "  <tbody>\n",
       "    <tr>\n",
       "      <th>Native</th>\n",
       "      <td>NaN</td>\n",
       "      <td>295.0</td>\n",
       "      <td>NaN</td>\n",
       "      <td>71.0</td>\n",
       "      <td>NaN</td>\n",
       "      <td>71787.0</td>\n",
       "      <td>21.0</td>\n",
       "      <td>7.0</td>\n",
       "      <td>NaN</td>\n",
       "      <td>3488.0</td>\n",
       "      <td>139.0</td>\n",
       "      <td>138.0</td>\n",
       "    </tr>\n",
       "    <tr>\n",
       "      <th>Not Confirmed</th>\n",
       "      <td>NaN</td>\n",
       "      <td>NaN</td>\n",
       "      <td>NaN</td>\n",
       "      <td>NaN</td>\n",
       "      <td>NaN</td>\n",
       "      <td>4.0</td>\n",
       "      <td>NaN</td>\n",
       "      <td>NaN</td>\n",
       "      <td>NaN</td>\n",
       "      <td>NaN</td>\n",
       "      <td>NaN</td>\n",
       "      <td>NaN</td>\n",
       "    </tr>\n",
       "    <tr>\n",
       "      <th>Not Native</th>\n",
       "      <td>NaN</td>\n",
       "      <td>10.0</td>\n",
       "      <td>1.0</td>\n",
       "      <td>1.0</td>\n",
       "      <td>NaN</td>\n",
       "      <td>10992.0</td>\n",
       "      <td>2.0</td>\n",
       "      <td>NaN</td>\n",
       "      <td>NaN</td>\n",
       "      <td>74.0</td>\n",
       "      <td>11.0</td>\n",
       "      <td>4.0</td>\n",
       "    </tr>\n",
       "    <tr>\n",
       "      <th>Not listed</th>\n",
       "      <td>NaN</td>\n",
       "      <td>52.0</td>\n",
       "      <td>NaN</td>\n",
       "      <td>3.0</td>\n",
       "      <td>NaN</td>\n",
       "      <td>24678.0</td>\n",
       "      <td>1.0</td>\n",
       "      <td>NaN</td>\n",
       "      <td>NaN</td>\n",
       "      <td>179.0</td>\n",
       "      <td>26.0</td>\n",
       "      <td>42.0</td>\n",
       "    </tr>\n",
       "    <tr>\n",
       "      <th>Present</th>\n",
       "      <td>7.0</td>\n",
       "      <td>NaN</td>\n",
       "      <td>NaN</td>\n",
       "      <td>NaN</td>\n",
       "      <td>2.0</td>\n",
       "      <td>39.0</td>\n",
       "      <td>NaN</td>\n",
       "      <td>NaN</td>\n",
       "      <td>5.0</td>\n",
       "      <td>NaN</td>\n",
       "      <td>NaN</td>\n",
       "      <td>NaN</td>\n",
       "    </tr>\n",
       "    <tr>\n",
       "      <th>Unknown</th>\n",
       "      <td>NaN</td>\n",
       "      <td>17.0</td>\n",
       "      <td>NaN</td>\n",
       "      <td>2.0</td>\n",
       "      <td>NaN</td>\n",
       "      <td>6949.0</td>\n",
       "      <td>NaN</td>\n",
       "      <td>NaN</td>\n",
       "      <td>NaN</td>\n",
       "      <td>102.0</td>\n",
       "      <td>8.0</td>\n",
       "      <td>10.0</td>\n",
       "    </tr>\n",
       "  </tbody>\n",
       "</table>\n",
       "</div>"
      ],
      "text/plain": [
       "Conservation Status  Breeder  Endangered  Extinct  In Recovery  Migratory  \\\n",
       "Nativeness                                                                  \n",
       "Native                   NaN       295.0      NaN         71.0        NaN   \n",
       "Not Confirmed            NaN         NaN      NaN          NaN        NaN   \n",
       "Not Native               NaN        10.0      1.0          1.0        NaN   \n",
       "Not listed               NaN        52.0      NaN          3.0        NaN   \n",
       "Present                  7.0         NaN      NaN          NaN        2.0   \n",
       "Unknown                  NaN        17.0      NaN          2.0        NaN   \n",
       "\n",
       "Conservation Status  Not listed  Proposed Endangered  Proposed Threatened  \\\n",
       "Nativeness                                                                  \n",
       "Native                  71787.0                 21.0                  7.0   \n",
       "Not Confirmed               4.0                  NaN                  NaN   \n",
       "Not Native              10992.0                  2.0                  NaN   \n",
       "Not listed              24678.0                  1.0                  NaN   \n",
       "Present                    39.0                  NaN                  NaN   \n",
       "Unknown                  6949.0                  NaN                  NaN   \n",
       "\n",
       "Conservation Status  Resident  Species of Concern  Threatened  Under Review  \n",
       "Nativeness                                                                   \n",
       "Native                    NaN              3488.0       139.0         138.0  \n",
       "Not Confirmed             NaN                 NaN         NaN           NaN  \n",
       "Not Native                NaN                74.0        11.0           4.0  \n",
       "Not listed                NaN               179.0        26.0          42.0  \n",
       "Present                   5.0                 NaN         NaN           NaN  \n",
       "Unknown                   NaN               102.0         8.0          10.0  "
      ]
     },
     "execution_count": 39,
     "metadata": {},
     "output_type": "execute_result"
    }
   ],
   "source": [
    "# create pivot table showing relationship between Nativeness and Conservation Status\n",
    "pivot_table = pd.pivot_table(df, values='Scientific Name', index='Nativeness', columns='Conservation Status', aggfunc=len)\n",
    "pivot_table"
   ]
  },
  {
   "cell_type": "markdown",
   "id": "3ab3f330",
   "metadata": {},
   "source": [
    "#### Notes on Findings\n",
    "- There are a significant number of rows for which the Nativeness and Conservation Status are not listed. Most of the rows do not have a Conservation Status listed.\n",
    "- Of those that have information listed, there are more Native species than Not Native species. \n",
    "- There are more Native species that are Endangered, In Recovery, Proposed Endangered, Species of Concern, Threatened, and Under Review than Not Native species."
   ]
  },
  {
   "cell_type": "markdown",
   "id": "1431535d",
   "metadata": {},
   "source": [
    "# CONCLUSION"
   ]
  },
  {
   "cell_type": "markdown",
   "id": "9e287124",
   "metadata": {},
   "source": [
    "## Summary of results\n",
    "- The park with the most biodiversity is the Great Smoky Mountains National Park, and the park with the least biodiversity is Dry Tortugas National Park.\n",
    "- The top 10 parks with the most and least biodiversity are spread out across the country, though three of the 10 parks with the least biodiversity are in Alaska.\n",
    "- There is a wide range of variation in biodiversity for a given park size, which suggests that there are other variables that factor into the biodiversity in a park.\n",
    "- Vascular Plants are observed far more frequently than any other category of species. Crab/Lobster/Shrimp are the least observed.\n",
    "- For all 56 parks, Vascular Plant is the category of species that are most present. For most parks, Amphibian is the category of species that are least present.\n",
    "- The top two parks with the highest number of endangered species observed, Hawaii Volcanoes National Park and Haleakala National Park, are both in Hawaii.\n",
    "- Of those that have Nativeness and Conservation Status information listed, there are more Native species than Not Native species, and there are more Native species that are Endangered, Proposed Endangered, of Concern, Threated, and Under Review than Not Native species."
   ]
  }
 ],
 "metadata": {
  "kernelspec": {
   "display_name": "Python 3 (ipykernel)",
   "language": "python",
   "name": "python3"
  },
  "language_info": {
   "codemirror_mode": {
    "name": "ipython",
    "version": 3
   },
   "file_extension": ".py",
   "mimetype": "text/x-python",
   "name": "python",
   "nbconvert_exporter": "python",
   "pygments_lexer": "ipython3",
   "version": "3.11.1"
  }
 },
 "nbformat": 4,
 "nbformat_minor": 5
}
