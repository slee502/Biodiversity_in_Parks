{
 "cells": [
  {
   "cell_type": "markdown",
   "id": "c6815add",
   "metadata": {},
   "source": [
    "## 1. Import Libraries"
   ]
  },
  {
   "cell_type": "code",
   "execution_count": 1,
   "id": "adbec796",
   "metadata": {},
   "outputs": [],
   "source": [
    "import pandas as pd\n",
    "import numpy as np\n",
    "import matplotlib\n",
    "import matplotlib.pyplot as plt"
   ]
  },
  {
   "cell_type": "code",
   "execution_count": 2,
   "id": "b1fb0d22",
   "metadata": {},
   "outputs": [],
   "source": [
    "# tell Jupyter Notebook to display matplotlib plots inline\n",
    "%matplotlib inline"
   ]
  },
  {
   "cell_type": "markdown",
   "id": "b3ca8b24",
   "metadata": {},
   "source": [
    "## 2. Read the CSVs and Merge Datasets"
   ]
  },
  {
   "cell_type": "code",
   "execution_count": 3,
   "id": "656be42f",
   "metadata": {},
   "outputs": [],
   "source": [
    "# read species data\n",
    "biodiversity = pd.read_csv('assets/species.csv', usecols=['Park Name', 'Category', 'Scientific Name', 'Common Names', 'Occurrence', 'Nativeness', 'Abundance', 'Conservation Status'])"
   ]
  },
  {
   "cell_type": "code",
   "execution_count": 4,
   "id": "2b2f7d0b",
   "metadata": {},
   "outputs": [
    {
     "data": {
      "text/html": [
       "<div>\n",
       "<style scoped>\n",
       "    .dataframe tbody tr th:only-of-type {\n",
       "        vertical-align: middle;\n",
       "    }\n",
       "\n",
       "    .dataframe tbody tr th {\n",
       "        vertical-align: top;\n",
       "    }\n",
       "\n",
       "    .dataframe thead th {\n",
       "        text-align: right;\n",
       "    }\n",
       "</style>\n",
       "<table border=\"1\" class=\"dataframe\">\n",
       "  <thead>\n",
       "    <tr style=\"text-align: right;\">\n",
       "      <th></th>\n",
       "      <th>Park Name</th>\n",
       "      <th>Category</th>\n",
       "      <th>Scientific Name</th>\n",
       "      <th>Common Names</th>\n",
       "      <th>Occurrence</th>\n",
       "      <th>Nativeness</th>\n",
       "      <th>Abundance</th>\n",
       "      <th>Conservation Status</th>\n",
       "    </tr>\n",
       "  </thead>\n",
       "  <tbody>\n",
       "    <tr>\n",
       "      <th>0</th>\n",
       "      <td>Acadia National Park</td>\n",
       "      <td>Mammal</td>\n",
       "      <td>Alces alces</td>\n",
       "      <td>Moose</td>\n",
       "      <td>Present</td>\n",
       "      <td>Native</td>\n",
       "      <td>Rare</td>\n",
       "      <td>NaN</td>\n",
       "    </tr>\n",
       "    <tr>\n",
       "      <th>1</th>\n",
       "      <td>Acadia National Park</td>\n",
       "      <td>Mammal</td>\n",
       "      <td>Odocoileus virginianus</td>\n",
       "      <td>Northern White-Tailed Deer, Virginia Deer, Whi...</td>\n",
       "      <td>Present</td>\n",
       "      <td>Native</td>\n",
       "      <td>Abundant</td>\n",
       "      <td>NaN</td>\n",
       "    </tr>\n",
       "    <tr>\n",
       "      <th>2</th>\n",
       "      <td>Acadia National Park</td>\n",
       "      <td>Mammal</td>\n",
       "      <td>Canis latrans</td>\n",
       "      <td>Coyote, Eastern Coyote</td>\n",
       "      <td>Present</td>\n",
       "      <td>Not Native</td>\n",
       "      <td>Common</td>\n",
       "      <td>Species of Concern</td>\n",
       "    </tr>\n",
       "    <tr>\n",
       "      <th>3</th>\n",
       "      <td>Acadia National Park</td>\n",
       "      <td>Mammal</td>\n",
       "      <td>Canis lupus</td>\n",
       "      <td>Eastern Timber Wolf, Gray Wolf, Timber Wolf</td>\n",
       "      <td>Not Confirmed</td>\n",
       "      <td>Native</td>\n",
       "      <td>NaN</td>\n",
       "      <td>Endangered</td>\n",
       "    </tr>\n",
       "    <tr>\n",
       "      <th>4</th>\n",
       "      <td>Acadia National Park</td>\n",
       "      <td>Mammal</td>\n",
       "      <td>Vulpes vulpes</td>\n",
       "      <td>Black Fox, Cross Fox, Eastern Red Fox, Fox, Re...</td>\n",
       "      <td>Present</td>\n",
       "      <td>Unknown</td>\n",
       "      <td>Common</td>\n",
       "      <td>NaN</td>\n",
       "    </tr>\n",
       "  </tbody>\n",
       "</table>\n",
       "</div>"
      ],
      "text/plain": [
       "              Park Name Category         Scientific Name  \\\n",
       "0  Acadia National Park   Mammal             Alces alces   \n",
       "1  Acadia National Park   Mammal  Odocoileus virginianus   \n",
       "2  Acadia National Park   Mammal           Canis latrans   \n",
       "3  Acadia National Park   Mammal             Canis lupus   \n",
       "4  Acadia National Park   Mammal           Vulpes vulpes   \n",
       "\n",
       "                                        Common Names     Occurrence  \\\n",
       "0                                              Moose        Present   \n",
       "1  Northern White-Tailed Deer, Virginia Deer, Whi...        Present   \n",
       "2                             Coyote, Eastern Coyote        Present   \n",
       "3        Eastern Timber Wolf, Gray Wolf, Timber Wolf  Not Confirmed   \n",
       "4  Black Fox, Cross Fox, Eastern Red Fox, Fox, Re...        Present   \n",
       "\n",
       "   Nativeness Abundance Conservation Status  \n",
       "0      Native      Rare                 NaN  \n",
       "1      Native  Abundant                 NaN  \n",
       "2  Not Native    Common  Species of Concern  \n",
       "3      Native       NaN          Endangered  \n",
       "4     Unknown    Common                 NaN  "
      ]
     },
     "execution_count": 4,
     "metadata": {},
     "output_type": "execute_result"
    }
   ],
   "source": [
    "biodiversity.head()"
   ]
  },
  {
   "cell_type": "code",
   "execution_count": 5,
   "id": "1af0c60b",
   "metadata": {},
   "outputs": [],
   "source": [
    "# read parks data\n",
    "parks = pd.read_csv('assets/parks.csv', usecols=['Park Code', 'Park Name', 'State', 'Acres'])"
   ]
  },
  {
   "cell_type": "code",
   "execution_count": 6,
   "id": "fe570019",
   "metadata": {},
   "outputs": [
    {
     "data": {
      "text/html": [
       "<div>\n",
       "<style scoped>\n",
       "    .dataframe tbody tr th:only-of-type {\n",
       "        vertical-align: middle;\n",
       "    }\n",
       "\n",
       "    .dataframe tbody tr th {\n",
       "        vertical-align: top;\n",
       "    }\n",
       "\n",
       "    .dataframe thead th {\n",
       "        text-align: right;\n",
       "    }\n",
       "</style>\n",
       "<table border=\"1\" class=\"dataframe\">\n",
       "  <thead>\n",
       "    <tr style=\"text-align: right;\">\n",
       "      <th></th>\n",
       "      <th>Park Code</th>\n",
       "      <th>Park Name</th>\n",
       "      <th>State</th>\n",
       "      <th>Acres</th>\n",
       "    </tr>\n",
       "  </thead>\n",
       "  <tbody>\n",
       "    <tr>\n",
       "      <th>0</th>\n",
       "      <td>ACAD</td>\n",
       "      <td>Acadia National Park</td>\n",
       "      <td>ME</td>\n",
       "      <td>47390</td>\n",
       "    </tr>\n",
       "    <tr>\n",
       "      <th>1</th>\n",
       "      <td>ARCH</td>\n",
       "      <td>Arches National Park</td>\n",
       "      <td>UT</td>\n",
       "      <td>76519</td>\n",
       "    </tr>\n",
       "    <tr>\n",
       "      <th>2</th>\n",
       "      <td>BADL</td>\n",
       "      <td>Badlands National Park</td>\n",
       "      <td>SD</td>\n",
       "      <td>242756</td>\n",
       "    </tr>\n",
       "    <tr>\n",
       "      <th>3</th>\n",
       "      <td>BIBE</td>\n",
       "      <td>Big Bend National Park</td>\n",
       "      <td>TX</td>\n",
       "      <td>801163</td>\n",
       "    </tr>\n",
       "    <tr>\n",
       "      <th>4</th>\n",
       "      <td>BISC</td>\n",
       "      <td>Biscayne National Park</td>\n",
       "      <td>FL</td>\n",
       "      <td>172924</td>\n",
       "    </tr>\n",
       "  </tbody>\n",
       "</table>\n",
       "</div>"
      ],
      "text/plain": [
       "  Park Code               Park Name State   Acres\n",
       "0      ACAD    Acadia National Park    ME   47390\n",
       "1      ARCH    Arches National Park    UT   76519\n",
       "2      BADL  Badlands National Park    SD  242756\n",
       "3      BIBE  Big Bend National Park    TX  801163\n",
       "4      BISC  Biscayne National Park    FL  172924"
      ]
     },
     "execution_count": 6,
     "metadata": {},
     "output_type": "execute_result"
    }
   ],
   "source": [
    "parks.head()"
   ]
  },
  {
   "cell_type": "code",
   "execution_count": 7,
   "id": "153800f1",
   "metadata": {},
   "outputs": [],
   "source": [
    "# merge datasets\n",
    "df = pd.merge(parks, biodiversity, left_on='Park Name', right_on='Park Name')"
   ]
  },
  {
   "cell_type": "code",
   "execution_count": 8,
   "id": "92186f66",
   "metadata": {},
   "outputs": [
    {
     "data": {
      "text/html": [
       "<div>\n",
       "<style scoped>\n",
       "    .dataframe tbody tr th:only-of-type {\n",
       "        vertical-align: middle;\n",
       "    }\n",
       "\n",
       "    .dataframe tbody tr th {\n",
       "        vertical-align: top;\n",
       "    }\n",
       "\n",
       "    .dataframe thead th {\n",
       "        text-align: right;\n",
       "    }\n",
       "</style>\n",
       "<table border=\"1\" class=\"dataframe\">\n",
       "  <thead>\n",
       "    <tr style=\"text-align: right;\">\n",
       "      <th></th>\n",
       "      <th>Park Code</th>\n",
       "      <th>Park Name</th>\n",
       "      <th>State</th>\n",
       "      <th>Acres</th>\n",
       "      <th>Category</th>\n",
       "      <th>Scientific Name</th>\n",
       "      <th>Common Names</th>\n",
       "      <th>Occurrence</th>\n",
       "      <th>Nativeness</th>\n",
       "      <th>Abundance</th>\n",
       "      <th>Conservation Status</th>\n",
       "    </tr>\n",
       "  </thead>\n",
       "  <tbody>\n",
       "    <tr>\n",
       "      <th>0</th>\n",
       "      <td>ACAD</td>\n",
       "      <td>Acadia National Park</td>\n",
       "      <td>ME</td>\n",
       "      <td>47390</td>\n",
       "      <td>Mammal</td>\n",
       "      <td>Alces alces</td>\n",
       "      <td>Moose</td>\n",
       "      <td>Present</td>\n",
       "      <td>Native</td>\n",
       "      <td>Rare</td>\n",
       "      <td>NaN</td>\n",
       "    </tr>\n",
       "    <tr>\n",
       "      <th>1</th>\n",
       "      <td>ACAD</td>\n",
       "      <td>Acadia National Park</td>\n",
       "      <td>ME</td>\n",
       "      <td>47390</td>\n",
       "      <td>Mammal</td>\n",
       "      <td>Odocoileus virginianus</td>\n",
       "      <td>Northern White-Tailed Deer, Virginia Deer, Whi...</td>\n",
       "      <td>Present</td>\n",
       "      <td>Native</td>\n",
       "      <td>Abundant</td>\n",
       "      <td>NaN</td>\n",
       "    </tr>\n",
       "    <tr>\n",
       "      <th>2</th>\n",
       "      <td>ACAD</td>\n",
       "      <td>Acadia National Park</td>\n",
       "      <td>ME</td>\n",
       "      <td>47390</td>\n",
       "      <td>Mammal</td>\n",
       "      <td>Canis latrans</td>\n",
       "      <td>Coyote, Eastern Coyote</td>\n",
       "      <td>Present</td>\n",
       "      <td>Not Native</td>\n",
       "      <td>Common</td>\n",
       "      <td>Species of Concern</td>\n",
       "    </tr>\n",
       "    <tr>\n",
       "      <th>3</th>\n",
       "      <td>ACAD</td>\n",
       "      <td>Acadia National Park</td>\n",
       "      <td>ME</td>\n",
       "      <td>47390</td>\n",
       "      <td>Mammal</td>\n",
       "      <td>Canis lupus</td>\n",
       "      <td>Eastern Timber Wolf, Gray Wolf, Timber Wolf</td>\n",
       "      <td>Not Confirmed</td>\n",
       "      <td>Native</td>\n",
       "      <td>NaN</td>\n",
       "      <td>Endangered</td>\n",
       "    </tr>\n",
       "    <tr>\n",
       "      <th>4</th>\n",
       "      <td>ACAD</td>\n",
       "      <td>Acadia National Park</td>\n",
       "      <td>ME</td>\n",
       "      <td>47390</td>\n",
       "      <td>Mammal</td>\n",
       "      <td>Vulpes vulpes</td>\n",
       "      <td>Black Fox, Cross Fox, Eastern Red Fox, Fox, Re...</td>\n",
       "      <td>Present</td>\n",
       "      <td>Unknown</td>\n",
       "      <td>Common</td>\n",
       "      <td>NaN</td>\n",
       "    </tr>\n",
       "  </tbody>\n",
       "</table>\n",
       "</div>"
      ],
      "text/plain": [
       "  Park Code             Park Name State  Acres Category  \\\n",
       "0      ACAD  Acadia National Park    ME  47390   Mammal   \n",
       "1      ACAD  Acadia National Park    ME  47390   Mammal   \n",
       "2      ACAD  Acadia National Park    ME  47390   Mammal   \n",
       "3      ACAD  Acadia National Park    ME  47390   Mammal   \n",
       "4      ACAD  Acadia National Park    ME  47390   Mammal   \n",
       "\n",
       "          Scientific Name                                       Common Names  \\\n",
       "0             Alces alces                                              Moose   \n",
       "1  Odocoileus virginianus  Northern White-Tailed Deer, Virginia Deer, Whi...   \n",
       "2           Canis latrans                             Coyote, Eastern Coyote   \n",
       "3             Canis lupus        Eastern Timber Wolf, Gray Wolf, Timber Wolf   \n",
       "4           Vulpes vulpes  Black Fox, Cross Fox, Eastern Red Fox, Fox, Re...   \n",
       "\n",
       "      Occurrence  Nativeness Abundance Conservation Status  \n",
       "0        Present      Native      Rare                 NaN  \n",
       "1        Present      Native  Abundant                 NaN  \n",
       "2        Present  Not Native    Common  Species of Concern  \n",
       "3  Not Confirmed      Native       NaN          Endangered  \n",
       "4        Present     Unknown    Common                 NaN  "
      ]
     },
     "execution_count": 8,
     "metadata": {},
     "output_type": "execute_result"
    }
   ],
   "source": [
    "df.head()"
   ]
  },
  {
   "cell_type": "markdown",
   "id": "539d4a8a",
   "metadata": {},
   "source": [
    "## 3. Clean the data"
   ]
  },
  {
   "cell_type": "code",
   "execution_count": 9,
   "id": "0715bf38",
   "metadata": {},
   "outputs": [
    {
     "data": {
      "text/plain": [
       "['Park Code',\n",
       " 'Park Name',\n",
       " 'State',\n",
       " 'Acres',\n",
       " 'Category',\n",
       " 'Scientific Name',\n",
       " 'Common Names',\n",
       " 'Occurrence',\n",
       " 'Nativeness',\n",
       " 'Abundance',\n",
       " 'Conservation Status']"
      ]
     },
     "execution_count": 9,
     "metadata": {},
     "output_type": "execute_result"
    }
   ],
   "source": [
    "# check for whitespace in column names\n",
    "list(df.columns)"
   ]
  },
  {
   "cell_type": "code",
   "execution_count": 10,
   "id": "ba01db23",
   "metadata": {
    "scrolled": true
   },
   "outputs": [
    {
     "data": {
      "text/plain": [
       "Park Code              object\n",
       "Park Name              object\n",
       "State                  object\n",
       "Acres                   int64\n",
       "Category               object\n",
       "Scientific Name        object\n",
       "Common Names           object\n",
       "Occurrence             object\n",
       "Nativeness             object\n",
       "Abundance              object\n",
       "Conservation Status    object\n",
       "dtype: object"
      ]
     },
     "execution_count": 10,
     "metadata": {},
     "output_type": "execute_result"
    }
   ],
   "source": [
    "# check dtypes\n",
    "df.dtypes"
   ]
  },
  {
   "cell_type": "markdown",
   "id": "e551cda1",
   "metadata": {},
   "source": [
    "## 4. Analyze data"
   ]
  },
  {
   "cell_type": "markdown",
   "id": "e4cf500f",
   "metadata": {},
   "source": [
    "### Most biodiverse parks"
   ]
  },
  {
   "cell_type": "code",
   "execution_count": 11,
   "id": "06009ad1",
   "metadata": {},
   "outputs": [],
   "source": [
    "# group by park name\n",
    "group_by_park = df.groupby('Park Name')"
   ]
  },
  {
   "cell_type": "code",
   "execution_count": 12,
   "id": "cba7dc0d",
   "metadata": {},
   "outputs": [],
   "source": [
    "# count species or number of rows for each park\n",
    "count_species = group_by_park.size()"
   ]
  },
  {
   "cell_type": "code",
   "execution_count": 13,
   "id": "13d2a1d7",
   "metadata": {},
   "outputs": [],
   "source": [
    "# sort in descending order\n",
    "sorted_count_species = count_species.sort_values(ascending=False)"
   ]
  },
  {
   "cell_type": "code",
   "execution_count": 14,
   "id": "9bc87051",
   "metadata": {},
   "outputs": [
    {
     "data": {
      "text/plain": [
       "Park Name\n",
       "Great Smoky Mountains National Park    6623\n",
       "Redwood National Park                  6310\n",
       "Shenandoah National Park               4655\n",
       "Death Valley National Park             4439\n",
       "Yellowstone National Park              3966\n",
       "Crater Lake National Park              3760\n",
       "North Cascades National Park           3363\n",
       "Hawaii Volcanoes National Park         3298\n",
       "Rocky Mountain National Park           3152\n",
       "Great Basin National Park              2653\n",
       "Grand Canyon National Park             2622\n",
       "Haleakala National Park                2580\n",
       "Glacier National Park                  2556\n",
       "Mammoth Cave National Park             2499\n",
       "Congaree National Park                 2321\n",
       "Joshua Tree National Park              2294\n",
       "Big Bend National Park                 2269\n",
       "Yosemite National Park                 2088\n",
       "Everglades National Park               2084\n",
       "Grand Teton National Park              2030\n",
       "dtype: int64"
      ]
     },
     "execution_count": 14,
     "metadata": {},
     "output_type": "execute_result"
    }
   ],
   "source": [
    "# show the top 20 parks with the most species/biodiversity\n",
    "sorted_count_species.head(20)"
   ]
  },
  {
   "cell_type": "code",
   "execution_count": 15,
   "id": "70d19293",
   "metadata": {},
   "outputs": [
    {
     "data": {
      "image/png": "[encoded data removed]",
      "text/plain": [
       "<Figure size 640x480 with 1 Axes>"
      ]
     },
     "metadata": {},
     "output_type": "display_data"
    }
   ],
   "source": [
    "# plot the top 20 parks with the most species/biodiversity\n",
    "\n",
    "top_20_parks = sorted_count_species.head(20)\n",
    "\n",
    "x = top_20_parks.index\n",
    "y = top_20_parks.values\n",
    "\n",
    "plt.barh(x, y)\n",
    "plt.xlabel('Number of Species')\n",
    "plt.ylabel('Park Name')\n",
    "plt.title('Top 20 U.S. National Parks With the Most Biodiversity')\n",
    "\n",
    "plt.show()"
   ]
  },
  {
   "cell_type": "markdown",
   "id": "6de74c83",
   "metadata": {},
   "source": [
    "### Size of park and biodiversity"
   ]
  },
  {
   "cell_type": "code",
   "execution_count": 16,
   "id": "25fcfda5",
   "metadata": {},
   "outputs": [
    {
     "data": {
      "text/plain": [
       "Park Name\n",
       "Wrangell - St Elias National Park and Preserve    8323148\n",
       "Gates Of The Arctic National Park and Preserve    7523898\n",
       "Death Valley National Park                        4740912\n",
       "Katmai National Park and Preserve                 3674530\n",
       "Denali National Park and Preserve                 3372402\n",
       "Glacier Bay National Park and Preserve            3224840\n",
       "Lake Clark National Park and Preserve             2619733\n",
       "Yellowstone National Park                         2219791\n",
       "Kobuk Valley National Park                        1750717\n",
       "Everglades National Park                          1508538\n",
       "Grand Canyon National Park                        1217403\n",
       "Glacier National Park                             1013572\n",
       "Olympic National Park                              922651\n",
       "Sequoia and Kings Canyon National Parks            865952\n",
       "Big Bend National Park                             801163\n",
       "Joshua Tree National Park                          789745\n",
       "Yosemite National Park                             761266\n",
       "Kenai Fjords National Park                         669983\n",
       "Isle Royale National Park                          571790\n",
       "Great Smoky Mountains National Park                521490\n",
       "North Cascades National Park                       504781\n",
       "Canyonlands National Park                          337598\n",
       "Hawaii Volcanoes National Park                     323431\n",
       "Grand Teton National Park                          309995\n",
       "Rocky Mountain National Park                       265828\n",
       "Channel Islands National Park                      249561\n",
       "Badlands National Park                             242756\n",
       "Capitol Reef National Park                         241904\n",
       "Mount Rainier National Park                        235625\n",
       "Voyageurs National Park                            218200\n",
       "Shenandoah National Park                           199045\n",
       "Crater Lake National Park                          183224\n",
       "Biscayne National Park                             172924\n",
       "Zion National Park                                 146598\n",
       "Redwood National Park                              112512\n",
       "Lassen Volcanic National Park                      106372\n",
       "Petrified Forest National Park                      93533\n",
       "Saguaro National Park                               91440\n",
       "Guadalupe Mountains National Park                   86416\n",
       "Great Basin National Park                           77180\n",
       "Arches National Park                                76519\n",
       "Theodore Roosevelt National Park                    70447\n",
       "Dry Tortugas National Park                          64701\n",
       "Mammoth Cave National Park                          52830\n",
       "Mesa Verde National Park                            52122\n",
       "Acadia National Park                                47390\n",
       "Carlsbad Caverns National Park                      46766\n",
       "Great Sand Dunes National Park and Preserve         42984\n",
       "Bryce Canyon National Park                          35835\n",
       "Cuyahoga Valley National Park                       32950\n",
       "Black Canyon of the Gunnison National Park          32950\n",
       "Haleakala National Park                             29094\n",
       "Wind Cave National Park                             28295\n",
       "Pinnacles National Park                             26606\n",
       "Congaree National Park                              26546\n",
       "Hot Springs National Park                            5550\n",
       "Name: Acres, dtype: int64"
      ]
     },
     "execution_count": 16,
     "metadata": {},
     "output_type": "execute_result"
    }
   ],
   "source": [
    "# create variable for size of park with grouped park names\n",
    "park_size = group_by_park['Acres'].max()\n",
    "sorted_park_size = park_size.sort_values(ascending=False)\n",
    "sorted_park_size"
   ]
  },
  {
   "cell_type": "code",
   "execution_count": 17,
   "id": "83bca73f",
   "metadata": {},
   "outputs": [
    {
     "data": {
      "text/plain": [
       "Park Name\n",
       "Acadia National Park                              1709\n",
       "Arches National Park                              1048\n",
       "Badlands National Park                            1389\n",
       "Big Bend National Park                            2269\n",
       "Biscayne National Park                            1726\n",
       "Black Canyon of the Gunnison National Park        1106\n",
       "Bryce Canyon National Park                        1286\n",
       "Canyonlands National Park                         1223\n",
       "Capitol Reef National Park                        1566\n",
       "Carlsbad Caverns National Park                    1536\n",
       "Channel Islands National Park                     1885\n",
       "Congaree National Park                            2321\n",
       "Crater Lake National Park                         3760\n",
       "Cuyahoga Valley National Park                     1941\n",
       "Death Valley National Park                        4439\n",
       "Denali National Park and Preserve                 1320\n",
       "Dry Tortugas National Park                         848\n",
       "Everglades National Park                          2084\n",
       "Gates Of The Arctic National Park and Preserve    1353\n",
       "Glacier Bay National Park and Preserve            1957\n",
       "Glacier National Park                             2556\n",
       "Grand Canyon National Park                        2622\n",
       "Grand Teton National Park                         2030\n",
       "Great Basin National Park                         2653\n",
       "Great Sand Dunes National Park and Preserve        952\n",
       "Great Smoky Mountains National Park               6623\n",
       "Guadalupe Mountains National Park                 1746\n",
       "Haleakala National Park                           2580\n",
       "Hawaii Volcanoes National Park                    3298\n",
       "Hot Springs National Park                         1950\n",
       "Isle Royale National Park                         1397\n",
       "Joshua Tree National Park                         2294\n",
       "Katmai National Park and Preserve                 1225\n",
       "Kenai Fjords National Park                        1057\n",
       "Kobuk Valley National Park                        1025\n",
       "Lake Clark National Park and Preserve             2007\n",
       "Lassen Volcanic National Park                     1797\n",
       "Mammoth Cave National Park                        2499\n",
       "Mesa Verde National Park                          1243\n",
       "Mount Rainier National Park                       1743\n",
       "North Cascades National Park                      3363\n",
       "Olympic National Park                             1948\n",
       "Petrified Forest National Park                     853\n",
       "Pinnacles National Park                           1416\n",
       "Redwood National Park                             6310\n",
       "Rocky Mountain National Park                      3152\n",
       "Saguaro National Park                             1834\n",
       "Sequoia and Kings Canyon National Parks           1995\n",
       "Shenandoah National Park                          4655\n",
       "Theodore Roosevelt National Park                  1165\n",
       "Voyageurs National Park                           1453\n",
       "Wind Cave National Park                           1395\n",
       "Wrangell - St Elias National Park and Preserve    1796\n",
       "Yellowstone National Park                         3966\n",
       "Yosemite National Park                            2088\n",
       "Zion National Park                                1796\n",
       "dtype: int64"
      ]
     },
     "execution_count": 17,
     "metadata": {},
     "output_type": "execute_result"
    }
   ],
   "source": [
    "count_species"
   ]
  },
  {
   "cell_type": "code",
   "execution_count": 18,
   "id": "4316068d",
   "metadata": {},
   "outputs": [
    {
     "data": {
      "image/png": "[encoded data removed]",
      "text/plain": [
       "<Figure size 640x480 with 1 Axes>"
      ]
     },
     "metadata": {},
     "output_type": "display_data"
    }
   ],
   "source": [
    "# scatter plot of park size and species count\n",
    "\n",
    "plt.scatter(park_size, count_species)\n",
    "plt.xlabel('Size of Park (Acres)')\n",
    "plt.ylabel('Number of Species')\n",
    "plt.title('Biodiversity vs Size of Park')\n",
    "\n",
    "plt.show()"
   ]
  },
  {
   "cell_type": "code",
   "execution_count": null,
   "id": "f77dc80d",
   "metadata": {},
   "outputs": [],
   "source": []
  }
 ],
 "metadata": {
  "kernelspec": {
   "display_name": "Python 3 (ipykernel)",
   "language": "python",
   "name": "python3"
  },
  "language_info": {
   "codemirror_mode": {
    "name": "ipython",
    "version": 3
   },
   "file_extension": ".py",
   "mimetype": "text/x-python",
   "name": "python",
   "nbconvert_exporter": "python",
   "pygments_lexer": "ipython3",
   "version": "3.11.1"
  }
 },
 "nbformat": 4,
 "nbformat_minor": 5
}
